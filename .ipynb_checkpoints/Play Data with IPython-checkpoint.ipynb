{
 "metadata": {
  "name": "",
  "signature": "sha256:02425cf7fd2f81d36039b9981ec5e7d11fc2d9fe40471d08d3c96285183ffa9e"
 },
 "nbformat": 3,
 "nbformat_minor": 0,
 "worksheets": [
  {
   "cells": [
    {
     "cell_type": "markdown",
     "metadata": {},
     "source": [
      "# \u7528 IPython \u73a9\u6578\u64da\n",
      "\n",
      "\n",
      "\n",
      "\n",
      "## \u8521\u708e\u9f8d\n",
      "\n",
      "### \u653f\u6cbb\u5927\u5b78\u61c9\u7528\u6578\u5b78\u7cfb\n",
      "### 2015 \u5e74 3 \u6708 3 \u65e5\u65bc\u82b1\u84ee.py\n",
      "\n",
      "\n",
      "\n",
      "\n",
      "\n",
      "\n",
      "\n",
      "\n",
      "\n",
      "\n",
      "\n",
      "\n"
     ]
    },
    {
     "cell_type": "markdown",
     "metadata": {},
     "source": [
      "##1. IPython"
     ]
    },
    {
     "cell_type": "markdown",
     "metadata": {},
     "source": [
      "### 1-1 IPython \u662f\u4ec0\u9ebc?\n",
      "\n",
      "IPython \u662f Python \u7684\u4e00\u500b\u524d\u7aef (front) \u754c\u9762\u3002IPython Notebook \u754c\u9762\u975e\u5e38\u597d\u7528, \u4e0d\u4f46\u53ef\u4ee5\u8b93\u4f60\u7528 Python, \u9084\u53ef\u4ee5\u540c\u6642\u8b93\u4f60\u8a18\u7b46\u8a18! \u539f\u5275\u8005 Fernado Perez \u662f\u7269\u7406\u5b78\u535a\u58eb, \u76ee\u524d\u9084\u662f IPython \u8a08\u756b\u9818\u5c0e\u8005\u3002\n",
      "\n",
      "\u4f60\u53ef\u4ee5\u76f4\u63a5\u770b\u4ed6\u5728\u4eca\u5e74 (2014) \u5728\u53f0\u7063 PyCon APAC \u7684\u6f14\u8b1b!\n",
      "\n",
      "[Open Source and Open Science (YouTube)](http://youtu.be/ZD5n9s8PGtI)\n",
      "\n",
      "\u9019\u5f35\u7167\u7247\u662f\u6703\u5f8c\u5305\u62ec Fernado \u5728\u5167\u7684\u5e7e\u4f4d\u4f7f\u7528 Python \u505a\u79d1\u5b78\u8a08\u7b97\u7684\u5b78\u8005\u5c08\u5bb6\u5230\u6771\u83ef\u5927\u5b78\u8a8d\u771f\u8a0e\u8ad6 (?) \u7684\u6a23\u5b50\u3002\n",
      "\n",
      "![Fernado](images/fernado.jpg)"
     ]
    },
    {
     "cell_type": "markdown",
     "metadata": {},
     "source": [
      "### 1-2 \u5b89\u88dd\u4f60\u7684 Python (\u548c IPython)\n",
      "\n",
      "\u6211\u5011\u63a8\u85a6\u4f7f\u7528 Anaconda \u7684 Python \u7248\u672c, \u56e0\u70ba\u9019\u500b\u7248\u672c\u5e6b\u4f60\u628a\u8a31\u591a\u5957\u4ef6 (\u5c24\u5176\u662f\u79d1\u5b78\u8a08\u7b97\u3001\u8cc7\u6599\u5206\u6790\u76f8\u95dc\u7684) \u90fd\u88dd\u597d\u4e86\u3002\n",
      "\n",
      "[Anaconda \u4e0b\u8f09\u5340](http://continuum.io/downloads)"
     ]
    },
    {
     "cell_type": "markdown",
     "metadata": {},
     "source": [
      "### \u5ef6\u4f38\u5b78\u7fd2\n",
      "\n",
      "\u5982\u679c\u4f60\u5c0d Python \u6709\u8208\u8da3, \u6b61\u8fce\u770b\u4eca\u5e74 (2014 \u5e74) \u6691\u5047\u6211\u5728\u4e00\u500b\u653f\u5927-\u6210\u5927\u806f\u5408\u8996\u8a0a\u5de5\u4f5c\u574a\u4ecb\u7d39\u7684 Python \u73fe\u5834\u9304\u5f71\u3002\n",
      "\n",
      "* [2014 Nano Data Anlysis with Python \u653f\u5927\u5834 1](http://youtu.be/bNOYkAh5UXE)\n",
      "* [2014 Nano Data Anlysis with Python \u653f\u5927\u5834 2](http://youtu.be/3MG9CHCCqDs)\n",
      "* [2014 Nano Data Anlysis with Python \u653f\u5927\u5834 3](http://youtu.be/Lksm2NceLz0)\n",
      "* [2014 Nano Data Anlysis with Python \u653f\u5927\u5834 4](http://youtu.be/GlK2wlW2ih0)"
     ]
    },
    {
     "cell_type": "markdown",
     "metadata": {},
     "source": [
      "##2. \u8996\u89ba\u5316\u8cc7\u6599\u5c31\u9019\u9ebc\u7c21\u55ae"
     ]
    },
    {
     "cell_type": "markdown",
     "metadata": {},
     "source": [
      "### 2-1 \u9b54\u8853\u4f86\u4e86!\n",
      "\n",
      "\u6211\u5011\u4ecb\u7d39\u7b2c\u4e00\u500b\u3001\u4e5f\u8a31\u4e5f\u662f\u6700\u91cd\u8981\u7684, \u6703\u8b80\u5165\u91cd\u5927\u6578\u5b78\u8a08\u7b97\u3001\u756b\u5716\u529f\u80fd\u7684\u9b54\u8853\u6307\u4ee4\u3002"
     ]
    },
    {
     "cell_type": "code",
     "collapsed": false,
     "input": [
      "%pylab inline"
     ],
     "language": "python",
     "metadata": {},
     "outputs": [
      {
       "output_type": "stream",
       "stream": "stdout",
       "text": [
        "Populating the interactive namespace from numpy and matplotlib\n"
       ]
      }
     ],
     "prompt_number": 3
    },
    {
     "cell_type": "markdown",
     "metadata": {},
     "source": [
      "#### \u9019\u500b\u9b54\u8853\u505a\u4e86\u4ec0\u9ebc\n",
      "\n",
      "\u8b80\u5165\n",
      "\n",
      "    numpy\n",
      "    matplotlib\n",
      "    \n",
      "\u5957\u4ef6\u3002\u751a\u81f3\u4e5f\u91cd\u8986\u8b80\u5165\n",
      "\n",
      "    import numpy as np\n",
      "    import matplotlib.pyplot as plt"
     ]
    },
    {
     "cell_type": "markdown",
     "metadata": {},
     "source": [
      "### 2-2 \u4e32\u5217\u662f\u57fa\u672c\u7684\u8cc7\u6599\u7d50\u69cb\n",
      "\n",
      "\u5982\u679c\u9084\u8a18\u5f97\u6211\u5011\u8981\u505a\u7684\u53eb\u8cc7\u6599\u5206\u6790, \u9019\u88e1\u9762\u5f88\u57fa\u672c\u7684\u8cc7\u6599\u578b\u5f0f\u5c31\u662f\u5982 Python \u4e2d\u7684\u4e32\u5217 (list)\u3002\u4e32\u5217\u5f88\u5bb9\u6613, \u5c31\u662f\u4e00\u5806\u6578\u5b57\u3001\u751a\u81f3\u4e0d\u4e00\u5b9a\u90fd\u8981\u6578\u5b57\u7684\u8cc7\u6599\u3002\u4f8b\u5982\u6211\u5011\u4f86\u500b\u53f0\u5317\u5e02\u5e73\u5747\u6eab\u5ea6\u3002"
     ]
    },
    {
     "cell_type": "code",
     "collapsed": false,
     "input": [
      "temp = [15.2, 15.2, 17.3, 21.0, 24.3, \n",
      "        26.7, 28.4, 28.2, 26.6, 23.3, 20.2, 17.0]"
     ],
     "language": "python",
     "metadata": {},
     "outputs": [],
     "prompt_number": 2
    },
    {
     "cell_type": "markdown",
     "metadata": {},
     "source": [
      "\u73fe\u5728\u6211\u5011\u60f3\u756b\u51fa\u4f86..."
     ]
    },
    {
     "cell_type": "code",
     "collapsed": false,
     "input": [
      "plot(temp)"
     ],
     "language": "python",
     "metadata": {},
     "outputs": [
      {
       "metadata": {},
       "output_type": "pyout",
       "prompt_number": 3,
       "text": [
        "[<matplotlib.lines.Line2D at 0x105ee7610>]"
       ]
      },
      {
       "metadata": {},
       "output_type": "display_data",
       "png": "[encoded data removed]",
       "text": [
        "<matplotlib.figure.Figure at 0x104449310>"
       ]
      }
     ],
     "prompt_number": 3
    },
    {
     "cell_type": "markdown",
     "metadata": {},
     "source": [
      "plot \u9019\u500b\u6307\u4ee4\u5176\u5be6\u5f88\u5bb9\u6613, \u57fa\u672c\u7528\u6cd5\u5c31\u662f:\n",
      "\n",
      "    plot(x \u7684\u5ea7\u6a19\u4e32\u5217, y\u3000\u7684\u5ea7\u6a19\u4e32\u5217)\n",
      "\n",
      "\u5982\u679c\u6211\u5011\u5077\u61f6, \u6c92\u6709\u653e x \u7684\u5ea7\u6a19\u4e32\u5217, \u4e5f\u53ef\u4ee5\u53ea\u653e y \u7684:\n",
      "    \n",
      "    plot(y \u7684\u5ea7\u6a19\u4e32\u5217)\n",
      "\n",
      "\u9019\u6642 Python \u6703\u81ea\u5df1\u52a0\u5165 x \u7684\u4e32\u5217\u662f [0, 1, 2, ..., n-1]\u3002\u5176\u4e2d n \u662f\u8cc7\u6599\u7684\u500b\u6578!\n",
      "\n",
      "\u4e0a\u9762\u7684\u4f8b\u5b50\u6211\u5011\u5982\u679c\u5805\u6301\u8981\u628a\u4e00\u500b\u6708\u4efd\u7684\u5ea7\u6a19\u653e\u9032\u53bb, \u53ef\u4ee5\u9019\u6a23\u8a2d\u3002"
     ]
    },
    {
     "cell_type": "code",
     "collapsed": false,
     "input": [
      "x = range(1,13)"
     ],
     "language": "python",
     "metadata": {},
     "outputs": [],
     "prompt_number": 4
    },
    {
     "cell_type": "code",
     "collapsed": false,
     "input": [
      "x"
     ],
     "language": "python",
     "metadata": {},
     "outputs": [
      {
       "metadata": {},
       "output_type": "pyout",
       "prompt_number": 5,
       "text": [
        "[1, 2, 3, 4, 5, 6, 7, 8, 9, 10, 11, 12]"
       ]
      }
     ],
     "prompt_number": 5
    },
    {
     "cell_type": "code",
     "collapsed": false,
     "input": [
      "plot(x, temp)"
     ],
     "language": "python",
     "metadata": {},
     "outputs": [
      {
       "metadata": {},
       "output_type": "pyout",
       "prompt_number": 6,
       "text": [
        "[<matplotlib.lines.Line2D at 0x10605b790>]"
       ]
      },
      {
       "metadata": {},
       "output_type": "display_data",
       "png": "[encoded data removed]",
       "text": [
        "<matplotlib.figure.Figure at 0x105eb9390>"
       ]
      }
     ],
     "prompt_number": 6
    },
    {
     "cell_type": "markdown",
     "metadata": {},
     "source": [
      "\u662f\u4e0d\u662f\u5f88\u9177? \u4ec0\u9ebc? \u4f60\u89ba\u5f97\u9577\u689d\u5716\u6bd4\u8f03\u5408\u9069? \u6c92\u554f\u984c!"
     ]
    },
    {
     "cell_type": "code",
     "collapsed": false,
     "input": [
      "bar(x,temp)"
     ],
     "language": "python",
     "metadata": {},
     "outputs": [
      {
       "metadata": {},
       "output_type": "pyout",
       "prompt_number": 7,
       "text": [
        "<Container object of 12 artists>"
       ]
      },
      {
       "metadata": {},
       "output_type": "display_data",
       "png": "[encoded data removed]",
       "text": [
        "<matplotlib.figure.Figure at 0x10604d710>"
       ]
      }
     ],
     "prompt_number": 7
    },
    {
     "cell_type": "markdown",
     "metadata": {},
     "source": [
      "### 2-3 Python \u662f\u771f\u7684\u5f88\u53ef\u611b"
     ]
    },
    {
     "cell_type": "markdown",
     "metadata": {},
     "source": [
      "\u5834\u5916\u63d2\u64ad\u4e00\u500b\u800d\u5bf6\u756b\u6cd5\u3002\u4e0b\u9054\u795e\u79d8\u7684\n",
      "\n",
      "    plt.xkcd()\n",
      "\n",
      "\u4e4b\u5f8c, \u518d\u756b\u5716...\n",
      "\n",
      "\u9019\u500b\u7576\u7136\u662f\u53d7\u5230 <a href=\"http://xkcd.com/\">xkcd</a> \u7684\u555f\u767c\u4f86\u7684\u3002"
     ]
    },
    {
     "cell_type": "markdown",
     "metadata": {},
     "source": [
      "![xkcd Python](http://imgs.xkcd.com/comics/python.png)"
     ]
    },
    {
     "cell_type": "code",
     "collapsed": false,
     "input": [
      "plt.xkcd()"
     ],
     "language": "python",
     "metadata": {},
     "outputs": [
      {
       "metadata": {},
       "output_type": "pyout",
       "prompt_number": 8,
       "text": [
        "<matplotlib.rc_context at 0x106324190>"
       ]
      }
     ],
     "prompt_number": 8
    },
    {
     "cell_type": "code",
     "collapsed": false,
     "input": [
      "plot(x, temp)"
     ],
     "language": "python",
     "metadata": {},
     "outputs": [
      {
       "metadata": {},
       "output_type": "pyout",
       "prompt_number": 9,
       "text": [
        "[<matplotlib.lines.Line2D at 0x10650d790>]"
       ]
      },
      {
       "metadata": {},
       "output_type": "display_data",
       "png": "[encoded data removed]",
       "text": [
        "<matplotlib.figure.Figure at 0x1060a67d0>"
       ]
      }
     ],
     "prompt_number": 9
    },
    {
     "cell_type": "code",
     "collapsed": false,
     "input": [
      "bar(x, temp)"
     ],
     "language": "python",
     "metadata": {},
     "outputs": [
      {
       "metadata": {},
       "output_type": "pyout",
       "prompt_number": 10,
       "text": [
        "<Container object of 12 artists>"
       ]
      },
      {
       "metadata": {},
       "output_type": "display_data",
       "png": "[encoded data removed]",
       "text": [
        "<matplotlib.figure.Figure at 0x105e63d50>"
       ]
      }
     ],
     "prompt_number": 10
    },
    {
     "cell_type": "markdown",
     "metadata": {},
     "source": [
      "\u4ee5\u4e0b\u5169\u884c\u53ea\u662f\u91cd\u8a2d\u56de\u300c\u6b63\u5e38\u300d\u72c0\u614b"
     ]
    },
    {
     "cell_type": "code",
     "collapsed": false,
     "input": [
      "rcdefaults()\n",
      "%pylab inline"
     ],
     "language": "python",
     "metadata": {},
     "outputs": [
      {
       "ename": "NameError",
       "evalue": "name 'rcdefaults' is not defined",
       "output_type": "pyerr",
       "traceback": [
        "\u001b[0;31m---------------------------------------------------------------------------\u001b[0m\n\u001b[0;31mNameError\u001b[0m                                 Traceback (most recent call last)",
        "\u001b[0;32m<ipython-input-2-41d7056fa8d8>\u001b[0m in \u001b[0;36m<module>\u001b[0;34m()\u001b[0m\n\u001b[0;32m----> 1\u001b[0;31m \u001b[0mrcdefaults\u001b[0m\u001b[0;34m(\u001b[0m\u001b[0;34m)\u001b[0m\u001b[0;34m\u001b[0m\u001b[0m\n\u001b[0m\u001b[1;32m      2\u001b[0m \u001b[0mget_ipython\u001b[0m\u001b[0;34m(\u001b[0m\u001b[0;34m)\u001b[0m\u001b[0;34m.\u001b[0m\u001b[0mmagic\u001b[0m\u001b[0;34m(\u001b[0m\u001b[0;34mu'pylab inline'\u001b[0m\u001b[0;34m)\u001b[0m\u001b[0;34m\u001b[0m\u001b[0m\n",
        "\u001b[0;31mNameError\u001b[0m: name 'rcdefaults' is not defined"
       ]
      }
     ],
     "prompt_number": 2
    },
    {
     "cell_type": "markdown",
     "metadata": {},
     "source": [
      "### 2-3 \u4e82\u6578\u5176\u5be6\u5f88\u53ef\u611b\n",
      "\n",
      "\u4e82\u6578\u662f\u597d\u73a9\u7684\u6839\u672c\u3002\n",
      "\n",
      "    a = randint(s,t)\n",
      "    \n",
      "\u662f\u96a8\u6a5f\u53d6\n",
      "\n",
      "$$s \\leq a < t$$\n",
      "    \n",
      "\u4e2d\u9593\u6574\u6578\u7684\u6578\u5b57\u3002"
     ]
    },
    {
     "cell_type": "code",
     "collapsed": false,
     "input": [
      "mylist = rand(100)"
     ],
     "language": "python",
     "metadata": {},
     "outputs": [],
     "prompt_number": 12
    },
    {
     "cell_type": "code",
     "collapsed": false,
     "input": [
      "mylist"
     ],
     "language": "python",
     "metadata": {},
     "outputs": [
      {
       "metadata": {},
       "output_type": "pyout",
       "prompt_number": 13,
       "text": [
        "array([ 0.82522065,  0.45346392,  0.15014961,  0.77200498,  0.82078927,\n",
        "        0.08736284,  0.57589247,  0.07761587,  0.37948823,  0.9515768 ,\n",
        "        0.7127992 ,  0.17416843,  0.96776662,  0.85981525,  0.722103  ,\n",
        "        0.87115421,  0.85800177,  0.6915905 ,  0.03614407,  0.77925679,\n",
        "        0.00557597,  0.23072775,  0.08512982,  0.92666533,  0.81600174,\n",
        "        0.58250375,  0.38864856,  0.55668585,  0.68100331,  0.12487009,\n",
        "        0.81896839,  0.39684574,  0.13758102,  0.96389226,  0.55712621,\n",
        "        0.35813068,  0.69133692,  0.0848126 ,  0.40961028,  0.3882723 ,\n",
        "        0.94882585,  0.24264268,  0.17921052,  0.00812955,  0.78064107,\n",
        "        0.57833257,  0.76331015,  0.21493572,  0.93534676,  0.6044095 ,\n",
        "        0.53242691,  0.22231848,  0.57802912,  0.04560284,  0.56457589,\n",
        "        0.72074969,  0.11251105,  0.36189602,  0.26051033,  0.80385545,\n",
        "        0.89009687,  0.19583448,  0.22262413,  0.61130246,  0.52462776,\n",
        "        0.31509456,  0.87855915,  0.73927886,  0.74597847,  0.22738678,\n",
        "        0.5365773 ,  0.02060239,  0.24801535,  0.39478885,  0.49390008,\n",
        "        0.31828079,  0.50719864,  0.10343459,  0.99466574,  0.54743065,\n",
        "        0.21750989,  0.55515405,  0.19777202,  0.29895308,  0.54080215,\n",
        "        0.28845326,  0.90319291,  0.42077051,  0.94130411,  0.64928035,\n",
        "        0.82436014,  0.94359252,  0.13281826,  0.42052931,  0.65589689,\n",
        "        0.50941499,  0.45019546,  0.31570872,  0.82606339,  0.10247141])"
       ]
      }
     ],
     "prompt_number": 13
    },
    {
     "cell_type": "markdown",
     "metadata": {},
     "source": [
      "\u5982\u679c\u7528\n",
      "\n",
      "    rand(100)\n",
      "\n",
      "\u610f\u601d\u662f\u62bd 100 \u500b 0 \u5230 1 \u7684\u4e82\u6578, \u653e\u6210\u4e00\u500b list (\u4e8b\u5be6\u4e0a\u662f array)"
     ]
    },
    {
     "cell_type": "code",
     "collapsed": false,
     "input": [
      "plot(rand(100))"
     ],
     "language": "python",
     "metadata": {},
     "outputs": [
      {
       "metadata": {},
       "output_type": "pyout",
       "prompt_number": 14,
       "text": [
        "[<matplotlib.lines.Line2D at 0x106787c50>]"
       ]
      },
      {
       "metadata": {},
       "output_type": "display_data",
       "png": "[encoded data removed]",
       "text": [
        "<matplotlib.figure.Figure at 0x1060a65d0>"
       ]
      }
     ],
     "prompt_number": 14
    },
    {
     "cell_type": "markdown",
     "metadata": {},
     "source": [
      "## 3. IPython \u6709\u4ec0\u9ebc\u597d"
     ]
    },
    {
     "cell_type": "markdown",
     "metadata": {},
     "source": [
      "\u5176\u5be6\u4ee5\u524d\u6211\u4e0d\u662f IPython \u8ff7 (\u6700\u4e3b\u8981\u662f\u5e38\u5e38\u4e5f\u6c92\u88dd\u6210\u529f), \u800c\u6211\u5c0d\u7db2\u9801\u754c\u9762\u7684\u958b\u767c\u74b0\u5883\u66f4\u662f\u8a0e\u53ad!\n",
      "\n",
      "\u7136\u800c..."
     ]
    },
    {
     "cell_type": "markdown",
     "metadata": {},
     "source": [
      "### 3-1 IPython \u6709\u9b54\u8853"
     ]
    },
    {
     "cell_type": "markdown",
     "metadata": {},
     "source": [
      "\u9664\u4e86\u6211\u5011\u4ecb\u7d39\u904e\u7684\n",
      "\n",
      "    %pylab\n",
      "    \n",
      "\u9084\u6709\u8a31\u591a..."
     ]
    },
    {
     "cell_type": "markdown",
     "metadata": {},
     "source": [
      "### 3-2 \u4f60\u597d\u50cf\u9084\u5728\u7cfb\u7d71\u4e2d"
     ]
    },
    {
     "cell_type": "markdown",
     "metadata": {},
     "source": [
      "\u6211\u5011\u719f\u6089\u7684 cd, ls \u7b49\u7b49\u5176\u5be6\u4e5f\u662f\u9b54\u8853\u6307\u4ee4 (\u6240\u4ee5\u5728 Windows \u88e1\u4e5f\u53ef\u4ee5 ls)\n",
      "\n",
      "\u66f4\u597d\u7684\u662f, \u5728 (\u9810\u8a2d)\n",
      "\n",
      "    automagic on\n",
      "\n",
      "\u7684\u72c0\u614b, \u9023 % \u90fd\u4e0d\u7528\u6253..."
     ]
    },
    {
     "cell_type": "code",
     "collapsed": false,
     "input": [
      "ls"
     ],
     "language": "python",
     "metadata": {},
     "outputs": [
      {
       "output_type": "stream",
       "stream": "stdout",
       "text": [
        "Play Data with IPython.ipynb  \u001b[31mimages\u001b[m\u001b[m/\r\n",
        "README.md                     \u001b[31mstyle.css\u001b[m\u001b[m*\r\n",
        "bmical.py                     \u001b[31mtalktools.py\u001b[m\u001b[m*\r\n"
       ]
      }
     ],
     "prompt_number": 7
    },
    {
     "cell_type": "markdown",
     "metadata": {},
     "source": [
      "\u66f4\u5f37\u7684\u662f, \u4f60\u53ea\u8981\u5687\u4e00\u8df3 (\u52a0\u9a5a\u5606\u865f), \u53ef\u611b\u7684 IPython \u5c31\u6703\u5e6b\u4f60\u57f7\u884c\u7cfb\u7d71\u6307\u4ee4\u3002"
     ]
    },
    {
     "cell_type": "code",
     "collapsed": false,
     "input": [
      "!ifconfig en0"
     ],
     "language": "python",
     "metadata": {},
     "outputs": [
      {
       "output_type": "stream",
       "stream": "stdout",
       "text": [
        "en0: flags=8863<UP,BROADCAST,SMART,RUNNING,SIMPLEX,MULTICAST> mtu 1500\r\n",
        "\tether 84:38:35:67:c9:20 \r\n",
        "\tinet6 fe80::8638:35ff:fe67:c920%en0 prefixlen 64 scopeid 0x4 \r\n",
        "\tinet 192.168.1.37 netmask 0xffffff00 broadcast 192.168.1.255\r\n",
        "\tnd6 options=1<PERFORMNUD>\r\n",
        "\tmedia: autoselect\r\n",
        "\tstatus: active\r\n"
       ]
      }
     ],
     "prompt_number": 10
    },
    {
     "cell_type": "markdown",
     "metadata": {},
     "source": [
      "\u800c\u4e14\u8f38\u51fa\u7684\u6771\u897f\u6211\u5011\u9084\u53ef\u4ee5\u8655\u7406\u3002"
     ]
    },
    {
     "cell_type": "code",
     "collapsed": false,
     "input": [
      "out = !ifconfig en0 | grep inet"
     ],
     "language": "python",
     "metadata": {},
     "outputs": [],
     "prompt_number": 12
    },
    {
     "cell_type": "code",
     "collapsed": false,
     "input": [
      "out"
     ],
     "language": "python",
     "metadata": {},
     "outputs": [
      {
       "metadata": {},
       "output_type": "pyout",
       "prompt_number": 14,
       "text": [
        "['\\tinet6 fe80::8638:35ff:fe67:c920%en0 prefixlen 64 scopeid 0x4 ',\n",
        " '\\tinet 192.168.1.37 netmask 0xffffff00 broadcast 192.168.1.255']"
       ]
      }
     ],
     "prompt_number": 14
    },
    {
     "cell_type": "code",
     "collapsed": false,
     "input": [
      "print \"\u6211\u7684 IP \u662f: \" + out[1].split()[1]"
     ],
     "language": "python",
     "metadata": {},
     "outputs": [
      {
       "output_type": "stream",
       "stream": "stdout",
       "text": [
        "\u6211\u7684 IP \u662f: 192.168.1.37\n"
       ]
      }
     ],
     "prompt_number": 17
    },
    {
     "cell_type": "markdown",
     "metadata": {},
     "source": [
      "### 3-3 tab completion \u8b93\u4eba\u4eba\u6210\u795e\u624b"
     ]
    },
    {
     "cell_type": "markdown",
     "metadata": {},
     "source": [
      "\u4f60\u8981\u6253\u51fa\u4e00\u5927\u4e32\u6771\u897f\u8b8a\u6210\u5f88\u7c21\u55ae\u3002"
     ]
    },
    {
     "cell_type": "markdown",
     "metadata": {},
     "source": [
      "### 3-4 \u4fee\u6539\u4e00\u500b\u51fd\u6578\u5f88\u5bb9\u6613"
     ]
    },
    {
     "cell_type": "code",
     "collapsed": false,
     "input": [
      "def love(n):\n",
      "    return \"love\" * n"
     ],
     "language": "python",
     "metadata": {},
     "outputs": [],
     "prompt_number": 38
    },
    {
     "cell_type": "code",
     "collapsed": false,
     "input": [
      "love(3)"
     ],
     "language": "python",
     "metadata": {},
     "outputs": [
      {
       "metadata": {},
       "output_type": "pyout",
       "prompt_number": 39,
       "text": [
        "'lovelovelove'"
       ]
      }
     ],
     "prompt_number": 39
    },
    {
     "cell_type": "code",
     "collapsed": false,
     "input": [
      "print love(5)"
     ],
     "language": "python",
     "metadata": {},
     "outputs": [
      {
       "output_type": "stream",
       "stream": "stdout",
       "text": [
        "lovelovelovelovelove\n"
       ]
      }
     ],
     "prompt_number": 43
    },
    {
     "cell_type": "markdown",
     "metadata": {},
     "source": [
      "### 3-5 \u795e\u5947\u7684\u662f, IPython \u53ef\u4ee5\u908a\u73a9\u908a\u5beb\n",
      "\n",
      "\u901a\u5e38\u6211\u5011\u6703\u628a\u6587\u5b57\u5b58\u6210\u4e00\u500b\u6587\u5b57\u6a94, \u4e00\u822c Python \u7a0b\u5f0f\u5c31\u662f .py \u6a94\u3002\u5047\u8a2d\u6211\u6709\u500b spam.py \u6a94, \u4f60\u53ef\u4ee5\u5728\u7d42\u7aef\u6a5f\u3001\u547d\u4ee4\u63d0\u793a\u5b57\u5143\u7528 \n",
      "\n",
      "    python spam.py\n",
      "    \n",
      "\u57f7\u884c\u3002\n",
      "\n",
      "\u800c, IPython \u795e\u5947\u7684\u662f, \u4f60\u53ef\u4ee5\u908a\u73a9, \u73a9\u4e86\u4e00\u6bb5\u628a\u8981\u7684\u90e8\u4efd\u5b58\u8d77\u4f86!"
     ]
    },
    {
     "cell_type": "code",
     "collapsed": false,
     "input": [
      "%save spam.py 38 43"
     ],
     "language": "python",
     "metadata": {},
     "outputs": [
      {
       "name": "stdout",
       "output_type": "stream",
       "stream": "stdout",
       "text": [
        "File `spam.py` exists. Overwrite (y/[N])?  y\n"
       ]
      },
      {
       "output_type": "stream",
       "stream": "stdout",
       "text": [
        "The following commands were written to file `spam.py`:\n",
        "def love(n):\n",
        "    return \"love\" * n\n",
        "print love(5)\n"
       ]
      }
     ],
     "prompt_number": 46
    },
    {
     "cell_type": "markdown",
     "metadata": {},
     "source": [
      "\u4ee5\u5f8c, \u6211\u5011\u7528 %run \u9019\u500b magic function \u5c31\u53ef\u4ee5\u8dd1!"
     ]
    },
    {
     "cell_type": "code",
     "collapsed": false,
     "input": [
      "%run spam.py"
     ],
     "language": "python",
     "metadata": {},
     "outputs": [
      {
       "output_type": "stream",
       "stream": "stdout",
       "text": [
        "lovelovelovelovelove\n"
       ]
      }
     ],
     "prompt_number": 48
    },
    {
     "cell_type": "markdown",
     "metadata": {},
     "source": [
      "### 3-6 \u7136\u5f8c\u6211\u5011\u53ef\u4ee5\u505a\u7b46\u8a18"
     ]
    },
    {
     "cell_type": "markdown",
     "metadata": {},
     "source": [
      "IPython \u652f\u63f4 Markdown \u8a9e\u6cd5, \u53ea\u8981\u628a\u5132\u5b58\u683c\u6539\u6210 Markdown \u683c\u5f0f, \u53ef\u4ee5\u7528\u9078\u55ae\u9078, \u4e5f\u53ef\u4ee5\n",
      "\n",
      "    CTRL-m m"
     ]
    },
    {
     "cell_type": "markdown",
     "metadata": {},
     "source": [
      "#### \u6578\u5b78\u7b26\u865f\u4e5f\u53ef\u4ee5\n",
      "\n",
      "\u7528 MathJax \u652f\u63f4\u96a8\u6587\u5982 $f(x) = x^3 - 2x + 5$, \u6216\u5c55\u793a\u5982\n",
      "\n",
      "$$\\int_a^b \\frac{f(x)}{g(x)} \\, dx$$\n",
      "\n",
      "MathJax \u9700\u8981\u7528\u7db2\u8def, \u5982\u679c\u8981\u96e2\u7dda\u57f7\u884c, \u4f60\u53ef\u4ee5\u5728\u6709\u7db2\u8def\u9023\u7dda\u7684\u72c0\u614b\u5728 IPython \u57f7\u884c\u4e00\u6b21 (\u4e00\u53f0\u96fb\u8166\u53ea\u8981\u4e00\u6b21):\n",
      "\n",
      "    from IPython.external.mathjax import install_mathjax\n",
      "    install_mathjax()"
     ]
    },
    {
     "cell_type": "markdown",
     "metadata": {},
     "source": [
      "### 4. Array \u5c0e\u5411\u7a0b\u5f0f\n",
      "\n",
      "\u5728\u79d1\u5b78\u8a08\u7b97\u3001\u8cc7\u6599\u5206\u6790, array \u578b\u7684\u601d\u8003\u65b9\u5f0f, \u5e38\u5e38\u8b93\u7a0b\u5f0f\u5feb\u901f\u65b9\u4fbf!"
     ]
    },
    {
     "cell_type": "markdown",
     "metadata": {},
     "source": [
      "### 4-1 \u96d6\u7136 array \u5f88\u50cf list"
     ]
    },
    {
     "cell_type": "code",
     "collapsed": false,
     "input": [
      "iamlist = [1,3,-2,5]"
     ],
     "language": "python",
     "metadata": {},
     "outputs": [],
     "prompt_number": 51
    },
    {
     "cell_type": "code",
     "collapsed": false,
     "input": [
      "iamlist * 2"
     ],
     "language": "python",
     "metadata": {},
     "outputs": [
      {
       "metadata": {},
       "output_type": "pyout",
       "prompt_number": 52,
       "text": [
        "[1, 3, -2, 5, 1, 3, -2, 5]"
       ]
      }
     ],
     "prompt_number": 52
    },
    {
     "cell_type": "code",
     "collapsed": false,
     "input": [
      "iamarray = array([1,3,-2,5])"
     ],
     "language": "python",
     "metadata": {},
     "outputs": [],
     "prompt_number": 53
    },
    {
     "cell_type": "code",
     "collapsed": false,
     "input": [
      "iamarray * 2"
     ],
     "language": "python",
     "metadata": {},
     "outputs": [
      {
       "metadata": {},
       "output_type": "pyout",
       "prompt_number": 54,
       "text": [
        "array([ 2,  6, -4, 10])"
       ]
      }
     ],
     "prompt_number": 54
    },
    {
     "cell_type": "markdown",
     "metadata": {},
     "source": [
      "\u9019\u6a23\u4e5f\u53ef\u4ee5!!"
     ]
    },
    {
     "cell_type": "code",
     "collapsed": false,
     "input": [
      "sin(iamarray)"
     ],
     "language": "python",
     "metadata": {},
     "outputs": [
      {
       "metadata": {},
       "output_type": "pyout",
       "prompt_number": 55,
       "text": [
        "array([ 0.84147098,  0.14112001, -0.90929743, -0.95892427])"
       ]
      }
     ],
     "prompt_number": 55
    },
    {
     "cell_type": "markdown",
     "metadata": {},
     "source": [
      "\u66f4\u9177\u7684\u662f, \u6211\u5011\u73fe\u5728\u60f3\u627e\u51fa\u5927\u65bc 0 \u7684\u662f\u54ea\u4e9b..."
     ]
    },
    {
     "cell_type": "code",
     "collapsed": false,
     "input": [
      "iamarray > 0"
     ],
     "language": "python",
     "metadata": {},
     "outputs": [
      {
       "metadata": {},
       "output_type": "pyout",
       "prompt_number": 57,
       "text": [
        "array([ True,  True, False,  True], dtype=bool)"
       ]
      }
     ],
     "prompt_number": 57
    },
    {
     "cell_type": "markdown",
     "metadata": {},
     "source": [
      "\u7136\u5f8c\u771f\u7684\u5217\u51fa\u9019\u4e9b!"
     ]
    },
    {
     "cell_type": "code",
     "collapsed": false,
     "input": [
      "iamarray[iamarray>0]"
     ],
     "language": "python",
     "metadata": {},
     "outputs": [
      {
       "metadata": {},
       "output_type": "pyout",
       "prompt_number": 59,
       "text": [
        "array([1, 3, 5])"
       ]
      }
     ],
     "prompt_number": 59
    },
    {
     "cell_type": "markdown",
     "metadata": {},
     "source": [
      "### 4-2 \u7528 array \u4f86\u756b\u5716\n",
      "\n",
      "\u524d\u9762\u8aaa\u4e86, \u6211\u5011\u8981\u756b\u5716\u57fa\u672c\u4e0a\u662f\n",
      "\n",
      "    plot(X, Y)\n",
      "\n",
      "X \u662f x \u5ea7\u6a19\u7684 list (array), Y \u662f y \u5ea7\u6a19\u7684 list\u3002"
     ]
    },
    {
     "cell_type": "markdown",
     "metadata": {},
     "source": [
      "\u505a\u4e00\u500b -10 \u5230 10, \u5171 1000 \u9ede\u7684\u8cc7\u6599!"
     ]
    },
    {
     "cell_type": "code",
     "collapsed": false,
     "input": [
      "x = linspace(-10,10,1000)"
     ],
     "language": "python",
     "metadata": {},
     "outputs": [],
     "prompt_number": 51
    },
    {
     "cell_type": "markdown",
     "metadata": {},
     "source": [
      "\u6211\u5011\u77e5\u9053 (\u5728 information theory/digital signal processing)\n",
      "\n",
      "$$\\mbox{sinc}(x) = \\frac{\\sin(\\pi x)}{\\pi x}$$"
     ]
    },
    {
     "cell_type": "code",
     "collapsed": false,
     "input": [
      "plot(x, sinc(x));"
     ],
     "language": "python",
     "metadata": {},
     "outputs": [
      {
       "metadata": {},
       "output_type": "display_data",
       "png": "[encoded data removed]",
       "text": [
        "<matplotlib.figure.Figure at 0x106c44c50>"
       ]
      }
     ],
     "prompt_number": 52
    },
    {
     "cell_type": "code",
     "collapsed": false,
     "input": [
      "y = sinc(x)\n",
      "plot(x, y);\n",
      "plot(x[y>0], y[y>0], 'ro');"
     ],
     "language": "python",
     "metadata": {},
     "outputs": [
      {
       "metadata": {},
       "output_type": "display_data",
       "png": "[encoded data removed]",
       "text": [
        "<matplotlib.figure.Figure at 0x10728a450>"
       ]
      }
     ],
     "prompt_number": 56
    },
    {
     "cell_type": "markdown",
     "metadata": {},
     "source": [
      "### 4-3 \u6539\u8b8a array \u7684 shape"
     ]
    },
    {
     "cell_type": "code",
     "collapsed": false,
     "input": [
      "x.shape = (20,50)"
     ],
     "language": "python",
     "metadata": {},
     "outputs": [],
     "prompt_number": 47
    },
    {
     "cell_type": "code",
     "collapsed": false,
     "input": [
      "imshow(x);"
     ],
     "language": "python",
     "metadata": {},
     "outputs": [
      {
       "metadata": {},
       "output_type": "display_data",
       "png": "[encoded data removed]",
       "text": [
        "<matplotlib.figure.Figure at 0x106e1fc90>"
       ]
      }
     ],
     "prompt_number": 48
    },
    {
     "cell_type": "code",
     "collapsed": false,
     "input": [
      "imshow(sinc(x));"
     ],
     "language": "python",
     "metadata": {},
     "outputs": [
      {
       "metadata": {},
       "output_type": "display_data",
       "png": "[encoded data removed]",
       "text": [
        "<matplotlib.figure.Figure at 0x10729e290>"
       ]
      }
     ],
     "prompt_number": 49
    },
    {
     "cell_type": "markdown",
     "metadata": {},
     "source": [
      "### \u5ef6\u4f38\u5b78\u7fd2\n",
      "\n",
      "Travis Oliphant (Numpy, SciPy, Anaconda \u958b\u767c\u8005), \u4ecb\u7d39 \"array-oriented\" \u7684\u8a08\u7b97\u6280\u5de7\u3002\u9019\u6bb5\u5f71\u7247\u662f Travis \u5728 2012 \u5e74, \u5728\u7b2c\u4e00\u6b21 PyCon Taiwan \u7684\u4e2d\u6f14\u8b1b\u3002\n",
      "\n",
      "[Large-scale array-oriented computing with Python (YouTube)](http://youtu.be/vrPRwUOt-7k)\n",
      "\n",
      "[\u6295\u5f71\u7247](http://www.slideshare.net/pycontw/largescale-arrayoriented-computing-with-python)"
     ]
    },
    {
     "cell_type": "markdown",
     "metadata": {},
     "source": [
      "### 5. \u6293\u8cc7\u6599\u9032\u4f86\u5206\u6790\u4e00\u4e0b"
     ]
    },
    {
     "cell_type": "markdown",
     "metadata": {},
     "source": [
      "### 5-1 \u6293\u5a01\u529b\u5f69\u8cc7\u6599\n",
      "\n",
      "[http://www.pilio.idv.tw/lto/list.asp?indexpage=1](http://www.pilio.idv.tw/lto/list.asp?indexpage=1)\n",
      "\n",
      "\u5982\u679c indexpage = 2 \u53ef\u770b\u5230\u4e0b\u4e00\u9801"
     ]
    },
    {
     "cell_type": "code",
     "collapsed": false,
     "input": [
      "import requests"
     ],
     "language": "python",
     "metadata": {},
     "outputs": [],
     "prompt_number": 60
    },
    {
     "cell_type": "code",
     "collapsed": false,
     "input": [
      "res = requests.get(\"http://www.pilio.idv.tw/lto/list.asp?indexpage=1\")"
     ],
     "language": "python",
     "metadata": {},
     "outputs": [],
     "prompt_number": 61
    },
    {
     "cell_type": "markdown",
     "metadata": {},
     "source": [
      "\u57fa\u672c\u4e0a\u9019\u5c31\u662f\u6293\u4e0b\u4e86\u6574\u500b\u7db2\u9801, \u6211\u5011\u53ef\u4ee5\u770b\u4e00\u4e0b\u5167\u5bb9"
     ]
    },
    {
     "cell_type": "code",
     "collapsed": false,
     "input": [
      "res.text"
     ],
     "language": "python",
     "metadata": {},
     "outputs": [
      {
       "metadata": {},
       "output_type": "pyout",
       "prompt_number": 62,
       "text": [
        "u'\\r\\n<html>\\r\\n\\r\\n<head>\\r\\n<meta http-equiv=\"Content-Language\" content=\"zh-tw\">\\r\\n<meta http-equiv=\"Content-Type\" content=\"text/html; charset=big5\">\\r\\n<meta name=\"GENERATOR\" content=\"Microsoft FrontPage 6.0\">\\r\\n<meta name=\"ProgId\" content=\"FrontPage.Editor.Document\">\\r\\n<title>\\xab\\xc2\\xa4O\\xb1m\\xb6}\\xbc\\xfa\\xb8\\xb9\\xbdX\\xacd\\xb8\\xdf</title>\\r\\n</head>\\r\\n\\r\\n<body background=\"bk.BMP\" bgproperties=\"fixed\">\\r\\n\\r\\n<script type=\"text/javascript\">\\r\\nvar tagtoo_ads_config = [{\\r\\n        \"publisher\": \"452\",\\r\\n        \"slot\": \"539\",\\r\\n        \"id\": \"tagtoo-ad1\",\\r\\n        \"width\": \"728\",\\r\\n        \"height\": \"90\"\\r\\n}];\\r\\n\\r\\nvar _tagtoo_ads = _tagtoo_ads || [];\\r\\n_tagtoo_ads.push([\"init\", tagtoo_ads_config]);\\r\\nvar RequestSite = \"http://ad.tagtoo.co\";\\r\\nvar tagtoo_ad_script = document.createElement(\"script\");\\r\\ntagtoo_ad_script.type = \"text/javascript\";\\r\\ntagtoo_ad_script.async = true;\\r\\ntagtoo_ad_script.src = RequestSite + \"/media/ad/ad_loader2.js\";\\r\\nvar s = document.getElementsByTagName(\"script\")[0];\\r\\ns.parentNode.insertBefore(tagtoo_ad_script, s);\\r\\n</script>\\r\\n\\r\\n\\r\\n<table border=\"0\" id=\"table1\" cellspacing=\"0\" cellpadding=\"0\">\\r\\n\\t<tr>\\r\\n\\t\\t<td width=\"361\">\\r\\n\\t\\t<p align=\"right\"><script type=\"text/javascript\" src=\"//adsense.scupio.com/adpinline/ADmediaJS/swiven_2480_9703_10369_1.js\"></script></td>\\r\\n\\t\\t<td width=\"742\">\\r\\n<script type=\"text/javascript\" src=\"//adsense.scupio.com/adpinline/ADmediaJS/swiven_2473_6452_7118_1.js\"></script>\\r\\n<BR>\\r\\n<div id=\"tagtoo-ad1\"></div>\\r\\n<BR>\\t\\r\\n<!-- AdPlace ShowCode Begin / 728*90 -->\\r\\n<script  type=\"text/javascript\" charset=\"gbk\" src=\"http://adplace.adsame.com/s?z=adplace&c=2650\"></script>\\r\\n<!-- AdPlace ShowCode End / 728*90 -->\\r\\n\\t\\t</td>\\r\\n\\t\\t<td width=\"459\"><script>var q = \"z=3187&w=300&h=250\";</script><script src=\"http://ads.doublemax.net/adx/rt_publisher.js\"></script></td>\\r\\n\\t</tr>\\r\\n</table>\\r\\n<p align=\"center\">\\r\\n<script>var q = \"z=3210&w=300&h=100\";</script>\\r\\n<script src=\"http://ads.doublemax.net/adx/rt_publisher.js\" ></script>\\r\\n<!-- BEGIN DoubleAdx.com EXCHANGE CODE -->\\r\\n<script src=\\'http://ad53.DoubleAdx.com/?M=232653&G1=1&G2=\\'></script>\\r\\n<noscript>\\r\\n<a href=\\'http://www.DoubleAdx.com\\'>free banner exchange by DoubleAdx.com</a>\\r\\n</noscript>\\r\\n<!-- END DoubleAdx.com BANNER CODE -->\\r\\n<br>\\r\\n<!-- Place this tag where you want the +1 button to render. -->\\r\\n<div class=\"g-plusone\" data-size=\"medium\" data-annotation=\"inline\" data-width=\"300\" align=center></div>\\r\\n<!-- Place this tag after the last +1 button tag. -->\\r\\n<script type=\"text/javascript\">\\r\\n  (function() {\\r\\n    var po = document.createElement(\\'script\\'); po.type = \\'text/javascript\\'; po.async = true;\\r\\n    po.src = \\'https://apis.google.com/js/plusone.js\\';\\r\\n    var s = document.getElementsByTagName(\\'script\\')[0]; s.parentNode.insertBefore(po, s);\\r\\n  })();\\r\\n</script>\\t\\t\\t\\t\\t\\t\\t\\t\\t\\t\\r\\n\\t\\t\\t<iframe src=\"http://www.facebook.com/plugins/like.php?href=http://www.pilio.idv.tw/lto/list.asp&layout=button_count&show_faces=0&width=90&height=24&locale=zh_TW\" frameborder=\"0\" scrolling=\"no\" style=\"width:150px;height:24px;\"> </iframe>\\r\\n                    &nbsp;<a target=\"_blank\" href=\"https://www.facebook.com/pages/\\xbc\\xd6\\xb3z\\xb1m\\xa9\\xaf\\xb9B\\xb5o\\xb0]\\xba\\xf4/154510874642988\"><img border=\"0\" src=\"../facebookFans.jpg\" width=\"173\" height=\"35\"></a>\\r\\n                    <a href=\"javascript:void(window.open(\\'http://www.facebook.com/share.php?u=\\'.concat(encodeURIComponent(location.href))));\">\\r\\n\\t\\t\\t\\t\\t<img border=\"0\" src=\"../../Facebook.jpg\" width=\"52\" height=\"21\"></a>&nbsp;\\r\\n\\t\\t\\t\\t\\t<a href=\"javascript: void(window.open(\\'http://www.plurk.com/?qualifier=shares&status=\\'.concat(encodeURIComponent(location.href)).concat(\\' \\').concat(\\'(\\').concat(encodeURIComponent(document.title)).concat(\\')\\')));\">\\r\\n\\t\\t\\t\\t\\t<img border=\"0\" src=\"../../Plurk.jpg\" width=\"41\" height=\"20\"></a>&nbsp;\\r\\n\\t\\t\\t\\t\\t<a href=\"javascript: void(window.open(\\'http://twitter.com/home/?status=\\'.concat(encodeURIComponent(document.title)).concat(\\' \\').concat(encodeURIComponent(location.href))));\">\\r\\n\\t\\t\\t\\t\\t<img border=\"0\" src=\"../../Tweet.jpg\" width=\"55\" height=\"20\"></a>\\r\\n<br>\\r\\n<p align=\"center\">\\r\\n<font size=\"2\">\\xafu\\xb8\\xdb\\xb1\\xc0\\xc2\\xcb \\r\\n<img border=\"0\" src=\"../yafen/point.gif\" width=\"20\" height=\"20\">\\r\\n<a href=\"http://www.pilio.idv.tw/LTO\">\\xab\\xc2\\xa4O\\xb1m\\xa4\\xc0\\xaaR\\xba\\xf4\\xaf\\xb8</a> &nbsp;<img border=\"0\" src=\"../yafen/point.gif\" width=\"20\" height=\"20\"><a href=\"http://www.pilio.idv.tw/ltobig\">\\xa4j\\xbc\\xd6\\xb3z\\xa4\\xc0\\xaaR\\xba\\xf4\\xaf\\xb8</a>&nbsp;\\r\\n<img border=\"0\" src=\"../yafen/point.gif\" width=\"20\" height=\"20\"><a href=\"http://www.pilio.idv.tw/ltohk\">\\xa4\\xbb\\xa6X\\xb1m\\xbc\\xc6\\xbe\\xda\\xa4\\xc0\\xaaR\\xba\\xf4\\xaf\\xb8</a>&nbsp;<img border=\"0\" src=\"../yafen/point.gif\" width=\"20\" height=\"20\"><a href=\"http://www.pilio.idv.tw/lto539\">\\xa4\\xb5\\xb1m539\\xbc\\xc6\\xbe\\xda\\xa4\\xc0\\xaaR</a> \\r\\n<img border=\"0\" src=\"../yafen/point.gif\" width=\"20\" height=\"20\"><a href=\"../lto/joinmem.asp\">\\xa5\\xdf\\xa7Y\\xa5\\xd3\\xbd\\xd0\\xa5[\\xa4J\\xb7|\\xad\\xfb</a>\\r\\n<img border=\"0\" src=\"../yafen/point.gif\" width=\"20\" height=\"20\"></font><b><a target=\"_blank\" href=\"http://www.pilio.idv.tw/merit.asp?indexpage=1\"><font color=\"#BD0000\">\\xa4j\\xbc\\xd6\\xb3z\\xb9w\\xb4\\xfa\\xc3\\xd8\\xbc\\xfa\\xac\\xa1\\xb0\\xca</font></a></b><font size=\"2\"> <img border=\"0\" src=\"../yafen/point.gif\" width=\"20\" height=\"20\"></font><a target=\"_self\" href=\"http://www.pilio.idv.tw\"><span style=\"font-weight: 700; background-color: #FFFFFF\"><font color=\"#BD0000\">\\xc5w\\xaa\\xef\\xabe\\xa9\\xb9\\xb7s\\xaa\\xa9\\xbc\\xd6\\xb3z\\xc1`\\xaf\\xb8</font></span></a><br>\\r\\n<br>\\r\\n<img border=\"0\" src=\"01.gif\" width=\"90\" height=\"49\">\\r\\n\\xbe\\xfa\\xa6~\\xa8\\xd3\\xab\\xc2\\xa4O\\xb1m\\xb6}\\xbc\\xfa\\xb8\\xb9\\xbdX\\xa6C\\xaa\\xed    \\r\\n<font size=\"2\"><font color=\"#CC3300\">\\xa5\\xd8\\xabe\\xab\\xc2\\xa4O\\xb1m\\xc0Y\\xbc\\xfa\\xb9w\\xa6\\xf4\\xb2\\xd6\\xbfn\\xaa\\xf7\\xc3B NT</font>:</font>\\r\\n\\t\\t\\t\\t\\t<font color=\"#FFFFFF\" size=\"5\">\\r\\n\\t\\t\\t\\t\\t<span style=\"font-weight: 700; background-color: #FF0000\">$0656954053</span></font>\\r\\n</p>\\r\\n<div align=\"center\">\\r\\n  <center>\\r\\n  <table border=\"2\" width=\"85%\" bordercolordark=\"#BD0000\" bordercolorlight=\"#000000\">\\r\\n    <tr>\\r\\n      \\r\\n    </tr>\\r\\n  </table>\\r\\n  </center>\\r\\n</div>\\r\\n<div align=\"center\">\\r\\n  <center>\\r\\n  <table border=\"1\" width=\"85%\" bordercolordark=\"#FF9900\" bordercolorlight=\"#FFFF00\">\\r\\n    <tr>\\r\\n      <td width=\"16%\" bgcolor=\"#FFEBD7\" align=\"center\"><b><font color=\"#000000\">\\xb4\\xc1\\xbc\\xc6</font></b></td>\\r\\n      <td width=\"16%\" bgcolor=\"#FFEBD7\" align=\"center\"><b><font color=\"#000000\">\\xb6}\\xbc\\xfa\\xa4\\xe9\\xb4\\xc1</font></b></td>\\r\\n      <td width=\"17%\" bgcolor=\"#FFEBD7\" align=\"center\"><b><font color=\"#000000\">\\r\\n\\t\\t\\xab\\xc2\\xa4O\\xb1m\\xb2\\xc4\\xa4@\\xb0\\xcf\\xa4\\xa4\\xbc\\xfa\\xb8\\xb9\\xbdX</font></b></td>\\r\\n      <td width=\"11%\" bgcolor=\"#FFEBD7\" align=\"center\"><b><font color=\"#000000\">\\xb2\\xc4\\xa4G\\xb0\\xcf\\xb8\\xb9</font></b></td>\\r\\n      <td width=\"23%\" bgcolor=\"#FFEBD7\" align=\"center\"><b><font color=\"#000000\">\\xb3\\xc6\\xb5\\xf9</font></b></td>\\r\\n    </tr>\\r\\n\\r\\n    <tr>\\r\\n      <td width=\"16%\" align=\"center\"><font color=\"#0066cc\"><b>752</b></font></td>\\r\\n      <td width=\"16%\" align=\"center\"><font color=\"#0066cc\"><b>2015/02/26</b></font></td>\\r\\n      <td width=\"17%\" align=\"center\"><b>08&nbsp;,&nbsp;21&nbsp;,&nbsp;22&nbsp;,&nbsp;26&nbsp;,&nbsp;32&nbsp;,&nbsp;37&nbsp;&nbsp;</b></td>\\r\\n      <td width=\"11%\" align=\"center\"><font color=\"#FF0000\"><b>04</b></font></td>\\r\\n      <td width=\"23%\" align=\"center\"><b><font color=\"#0066cc\">\\xb5L</font></b></td>\\r\\n    </tr>\\r\\n\\r\\n    <tr>\\r\\n      <td width=\"16%\" align=\"center\"><font color=\"#0066cc\"><b>751</b></font></td>\\r\\n      <td width=\"16%\" align=\"center\"><font color=\"#0066cc\"><b>2015/02/23</b></font></td>\\r\\n      <td width=\"17%\" align=\"center\"><b>05&nbsp;,&nbsp;13&nbsp;,&nbsp;31&nbsp;,&nbsp;34&nbsp;,&nbsp;35&nbsp;,&nbsp;38&nbsp;&nbsp;</b></td>\\r\\n      <td width=\"11%\" align=\"center\"><font color=\"#FF0000\"><b>02</b></font></td>\\r\\n      <td width=\"23%\" align=\"center\"><b><font color=\"#0066cc\">\\xb5L</font></b></td>\\r\\n    </tr>\\r\\n\\r\\n    <tr>\\r\\n      <td width=\"16%\" align=\"center\"><font color=\"#0066cc\"><b>750</b></font></td>\\r\\n      <td width=\"16%\" align=\"center\"><font color=\"#0066cc\"><b>2015/02/19</b></font></td>\\r\\n      <td width=\"17%\" align=\"center\"><b>04&nbsp;,&nbsp;12&nbsp;,&nbsp;13&nbsp;,&nbsp;15&nbsp;,&nbsp;23&nbsp;,&nbsp;38&nbsp;&nbsp;</b></td>\\r\\n      <td width=\"11%\" align=\"center\"><font color=\"#FF0000\"><b>04</b></font></td>\\r\\n      <td width=\"23%\" align=\"center\"><b><font color=\"#0066cc\">\\xb5L</font></b></td>\\r\\n    </tr>\\r\\n\\r\\n    <tr>\\r\\n      <td width=\"16%\" align=\"center\"><font color=\"#0066cc\"><b>749</b></font></td>\\r\\n      <td width=\"16%\" align=\"center\"><font color=\"#0066cc\"><b>2015/02/16</b></font></td>\\r\\n      <td width=\"17%\" align=\"center\"><b>04&nbsp;,&nbsp;05&nbsp;,&nbsp;07&nbsp;,&nbsp;23&nbsp;,&nbsp;24&nbsp;,&nbsp;30&nbsp;&nbsp;</b></td>\\r\\n      <td width=\"11%\" align=\"center\"><font color=\"#FF0000\"><b>02</b></font></td>\\r\\n      <td width=\"23%\" align=\"center\"><b><font color=\"#0066cc\">\\xb5L</font></b></td>\\r\\n    </tr>\\r\\n\\r\\n    <tr>\\r\\n      <td width=\"16%\" align=\"center\"><font color=\"#0066cc\"><b>748</b></font></td>\\r\\n      <td width=\"16%\" align=\"center\"><font color=\"#0066cc\"><b>2015/02/12</b></font></td>\\r\\n      <td width=\"17%\" align=\"center\"><b>07&nbsp;,&nbsp;08&nbsp;,&nbsp;10&nbsp;,&nbsp;25&nbsp;,&nbsp;33&nbsp;,&nbsp;36&nbsp;&nbsp;</b></td>\\r\\n      <td width=\"11%\" align=\"center\"><font color=\"#FF0000\"><b>03</b></font></td>\\r\\n      <td width=\"23%\" align=\"center\"><b><font color=\"#0066cc\">\\xb5L</font></b></td>\\r\\n    </tr>\\r\\n\\r\\n    <tr>\\r\\n      <td width=\"16%\" align=\"center\"><font color=\"#0066cc\"><b>747</b></font></td>\\r\\n      <td width=\"16%\" align=\"center\"><font color=\"#0066cc\"><b>2015/02/09</b></font></td>\\r\\n      <td width=\"17%\" align=\"center\"><b>01&nbsp;,&nbsp;03&nbsp;,&nbsp;04&nbsp;,&nbsp;15&nbsp;,&nbsp;16&nbsp;,&nbsp;34&nbsp;&nbsp;</b></td>\\r\\n      <td width=\"11%\" align=\"center\"><font color=\"#FF0000\"><b>02</b></font></td>\\r\\n      <td width=\"23%\" align=\"center\"><b><font color=\"#0066cc\">\\xb5L</font></b></td>\\r\\n    </tr>\\r\\n\\r\\n    <tr>\\r\\n      <td width=\"16%\" align=\"center\"><font color=\"#0066cc\"><b>746</b></font></td>\\r\\n      <td width=\"16%\" align=\"center\"><font color=\"#0066cc\"><b>2015/02/05</b></font></td>\\r\\n      <td width=\"17%\" align=\"center\"><b>03&nbsp;,&nbsp;10&nbsp;,&nbsp;16&nbsp;,&nbsp;25&nbsp;,&nbsp;29&nbsp;,&nbsp;37&nbsp;&nbsp;</b></td>\\r\\n      <td width=\"11%\" align=\"center\"><font color=\"#FF0000\"><b>01</b></font></td>\\r\\n      <td width=\"23%\" align=\"center\"><b><font color=\"#0066cc\">\\xb5L</font></b></td>\\r\\n    </tr>\\r\\n\\r\\n    <tr>\\r\\n      <td width=\"16%\" align=\"center\"><font color=\"#0066cc\"><b>745</b></font></td>\\r\\n      <td width=\"16%\" align=\"center\"><font color=\"#0066cc\"><b>2015/02/02</b></font></td>\\r\\n      <td width=\"17%\" align=\"center\"><b>01&nbsp;,&nbsp;04&nbsp;,&nbsp;17&nbsp;,&nbsp;24&nbsp;,&nbsp;26&nbsp;,&nbsp;27&nbsp;&nbsp;</b></td>\\r\\n      <td width=\"11%\" align=\"center\"><font color=\"#FF0000\"><b>07</b></font></td>\\r\\n      <td width=\"23%\" align=\"center\"><b><font color=\"#0066cc\">\\xb5L</font></b></td>\\r\\n    </tr>\\r\\n\\r\\n    <tr>\\r\\n      <td width=\"16%\" align=\"center\"><font color=\"#0066cc\"><b>744</b></font></td>\\r\\n      <td width=\"16%\" align=\"center\"><font color=\"#0066cc\"><b>2015/01/29</b></font></td>\\r\\n      <td width=\"17%\" align=\"center\"><b>01&nbsp;,&nbsp;04&nbsp;,&nbsp;14&nbsp;,&nbsp;18&nbsp;,&nbsp;29&nbsp;,&nbsp;30&nbsp;&nbsp;</b></td>\\r\\n      <td width=\"11%\" align=\"center\"><font color=\"#FF0000\"><b>08</b></font></td>\\r\\n      <td width=\"23%\" align=\"center\"><b><font color=\"#0066cc\">\\xb5L</font></b></td>\\r\\n    </tr>\\r\\n\\r\\n    <tr>\\r\\n      <td width=\"16%\" align=\"center\"><font color=\"#0066cc\"><b>743</b></font></td>\\r\\n      <td width=\"16%\" align=\"center\"><font color=\"#0066cc\"><b>2015/01/26</b></font></td>\\r\\n      <td width=\"17%\" align=\"center\"><b>04&nbsp;,&nbsp;12&nbsp;,&nbsp;24&nbsp;,&nbsp;25&nbsp;,&nbsp;33&nbsp;,&nbsp;38&nbsp;&nbsp;</b></td>\\r\\n      <td width=\"11%\" align=\"center\"><font color=\"#FF0000\"><b>04</b></font></td>\\r\\n      <td width=\"23%\" align=\"center\"><b><font color=\"#0066cc\">\\xb5L</font></b></td>\\r\\n    </tr>\\r\\n\\r\\n    <tr>\\r\\n      <td width=\"16%\" align=\"center\"><font color=\"#0066cc\"><b>742</b></font></td>\\r\\n      <td width=\"16%\" align=\"center\"><font color=\"#0066cc\"><b>2015/01/22</b></font></td>\\r\\n      <td width=\"17%\" align=\"center\"><b>14&nbsp;,&nbsp;18&nbsp;,&nbsp;26&nbsp;,&nbsp;27&nbsp;,&nbsp;30&nbsp;,&nbsp;36&nbsp;&nbsp;</b></td>\\r\\n      <td width=\"11%\" align=\"center\"><font color=\"#FF0000\"><b>05</b></font></td>\\r\\n      <td width=\"23%\" align=\"center\"><b><font color=\"#0066cc\">\\xb5L</font></b></td>\\r\\n    </tr>\\r\\n\\r\\n    <tr>\\r\\n      <td width=\"16%\" align=\"center\"><font color=\"#0066cc\"><b>741</b></font></td>\\r\\n      <td width=\"16%\" align=\"center\"><font color=\"#0066cc\"><b>2015/01/19</b></font></td>\\r\\n      <td width=\"17%\" align=\"center\"><b>04&nbsp;,&nbsp;08&nbsp;,&nbsp;09&nbsp;,&nbsp;21&nbsp;,&nbsp;32&nbsp;,&nbsp;33&nbsp;&nbsp;</b></td>\\r\\n      <td width=\"11%\" align=\"center\"><font color=\"#FF0000\"><b>02</b></font></td>\\r\\n      <td width=\"23%\" align=\"center\"><b><font color=\"#0066cc\">\\xb5L</font></b></td>\\r\\n    </tr>\\r\\n\\r\\n    <tr>\\r\\n      <td width=\"16%\" align=\"center\"><font color=\"#0066cc\"><b>740</b></font></td>\\r\\n      <td width=\"16%\" align=\"center\"><font color=\"#0066cc\"><b>2015/01/15</b></font></td>\\r\\n      <td width=\"17%\" align=\"center\"><b>01&nbsp;,&nbsp;03&nbsp;,&nbsp;16&nbsp;,&nbsp;28&nbsp;,&nbsp;29&nbsp;,&nbsp;37&nbsp;&nbsp;</b></td>\\r\\n      <td width=\"11%\" align=\"center\"><font color=\"#FF0000\"><b>02</b></font></td>\\r\\n      <td width=\"23%\" align=\"center\"><b><font color=\"#0066cc\">\\xb5L</font></b></td>\\r\\n    </tr>\\r\\n\\r\\n    <tr>\\r\\n      <td width=\"16%\" align=\"center\"><font color=\"#0066cc\"><b>739</b></font></td>\\r\\n      <td width=\"16%\" align=\"center\"><font color=\"#0066cc\"><b>2015/01/12</b></font></td>\\r\\n      <td width=\"17%\" align=\"center\"><b>16&nbsp;,&nbsp;25&nbsp;,&nbsp;30&nbsp;,&nbsp;35&nbsp;,&nbsp;36&nbsp;,&nbsp;37&nbsp;&nbsp;</b></td>\\r\\n      <td width=\"11%\" align=\"center\"><font color=\"#FF0000\"><b>05</b></font></td>\\r\\n      <td width=\"23%\" align=\"center\"><b><font color=\"#0066cc\">\\xb5L</font></b></td>\\r\\n    </tr>\\r\\n\\r\\n    <tr>\\r\\n      <td width=\"16%\" align=\"center\"><font color=\"#0066cc\"><b>738</b></font></td>\\r\\n      <td width=\"16%\" align=\"center\"><font color=\"#0066cc\"><b>2015/01/08</b></font></td>\\r\\n      <td width=\"17%\" align=\"center\"><b>03&nbsp;,&nbsp;13&nbsp;,&nbsp;17&nbsp;,&nbsp;29&nbsp;,&nbsp;36&nbsp;,&nbsp;38&nbsp;&nbsp;</b></td>\\r\\n      <td width=\"11%\" align=\"center\"><font color=\"#FF0000\"><b>07</b></font></td>\\r\\n      <td width=\"23%\" align=\"center\"><b><font color=\"#0066cc\">\\xb5L</font></b></td>\\r\\n    </tr>\\r\\n\\r\\n    <tr>\\r\\n      <td width=\"16%\" align=\"center\"><font color=\"#0066cc\"><b>737</b></font></td>\\r\\n      <td width=\"16%\" align=\"center\"><font color=\"#0066cc\"><b>2015/01/05</b></font></td>\\r\\n      <td width=\"17%\" align=\"center\"><b>01&nbsp;,&nbsp;06&nbsp;,&nbsp;15&nbsp;,&nbsp;23&nbsp;,&nbsp;26&nbsp;,&nbsp;34&nbsp;&nbsp;</b></td>\\r\\n      <td width=\"11%\" align=\"center\"><font color=\"#FF0000\"><b>06</b></font></td>\\r\\n      <td width=\"23%\" align=\"center\"><b><font color=\"#0066cc\">\\xb5L</font></b></td>\\r\\n    </tr>\\r\\n\\r\\n    <tr>\\r\\n      <td width=\"16%\" align=\"center\"><font color=\"#0066cc\"><b>736</b></font></td>\\r\\n      <td width=\"16%\" align=\"center\"><font color=\"#0066cc\"><b>2015/01/01</b></font></td>\\r\\n      <td width=\"17%\" align=\"center\"><b>01&nbsp;,&nbsp;03&nbsp;,&nbsp;05&nbsp;,&nbsp;11&nbsp;,&nbsp;17&nbsp;,&nbsp;21&nbsp;&nbsp;</b></td>\\r\\n      <td width=\"11%\" align=\"center\"><font color=\"#FF0000\"><b>02</b></font></td>\\r\\n      <td width=\"23%\" align=\"center\"><b><font color=\"#0066cc\">\\xb5L</font></b></td>\\r\\n    </tr>\\r\\n\\r\\n    <tr>\\r\\n      <td width=\"16%\" align=\"center\"><font color=\"#0066cc\"><b>735</b></font></td>\\r\\n      <td width=\"16%\" align=\"center\"><font color=\"#0066cc\"><b>2014/12/29</b></font></td>\\r\\n      <td width=\"17%\" align=\"center\"><b>02&nbsp;,&nbsp;04&nbsp;,&nbsp;09&nbsp;,&nbsp;10&nbsp;,&nbsp;11&nbsp;,&nbsp;37&nbsp;&nbsp;</b></td>\\r\\n      <td width=\"11%\" align=\"center\"><font color=\"#FF0000\"><b>02</b></font></td>\\r\\n      <td width=\"23%\" align=\"center\"><b><font color=\"#0066cc\">\\xb5L</font></b></td>\\r\\n    </tr>\\r\\n\\r\\n    <tr>\\r\\n      <td width=\"16%\" align=\"center\"><font color=\"#0066cc\"><b>734</b></font></td>\\r\\n      <td width=\"16%\" align=\"center\"><font color=\"#0066cc\"><b>2014/12/25</b></font></td>\\r\\n      <td width=\"17%\" align=\"center\"><b>03&nbsp;,&nbsp;06&nbsp;,&nbsp;10&nbsp;,&nbsp;14&nbsp;,&nbsp;23&nbsp;,&nbsp;36&nbsp;&nbsp;</b></td>\\r\\n      <td width=\"11%\" align=\"center\"><font color=\"#FF0000\"><b>01</b></font></td>\\r\\n      <td width=\"23%\" align=\"center\"><b><font color=\"#0066cc\">\\xb5L</font></b></td>\\r\\n    </tr>\\r\\n\\r\\n    <tr>\\r\\n      <td width=\"16%\" align=\"center\"><font color=\"#0066cc\"><b>733</b></font></td>\\r\\n      <td width=\"16%\" align=\"center\"><font color=\"#0066cc\"><b>2014/12/22</b></font></td>\\r\\n      <td width=\"17%\" align=\"center\"><b>01&nbsp;,&nbsp;04&nbsp;,&nbsp;05&nbsp;,&nbsp;13&nbsp;,&nbsp;19&nbsp;,&nbsp;37&nbsp;&nbsp;</b></td>\\r\\n      <td width=\"11%\" align=\"center\"><font color=\"#FF0000\"><b>02</b></font></td>\\r\\n      <td width=\"23%\" align=\"center\"><b><font color=\"#0066cc\">\\xb5L</font></b></td>\\r\\n    </tr>\\r\\n\\r\\n    <tr>\\r\\n      <td width=\"16%\" align=\"center\"><font color=\"#0066cc\"><b>732</b></font></td>\\r\\n      <td width=\"16%\" align=\"center\"><font color=\"#0066cc\"><b>2014/12/18</b></font></td>\\r\\n      <td width=\"17%\" align=\"center\"><b>01&nbsp;,&nbsp;05&nbsp;,&nbsp;18&nbsp;,&nbsp;20&nbsp;,&nbsp;26&nbsp;,&nbsp;29&nbsp;&nbsp;</b></td>\\r\\n      <td width=\"11%\" align=\"center\"><font color=\"#FF0000\"><b>05</b></font></td>\\r\\n      <td width=\"23%\" align=\"center\"><b><font color=\"#0066cc\">\\xb5L</font></b></td>\\r\\n    </tr>\\r\\n\\r\\n    <tr>\\r\\n      <td width=\"16%\" align=\"center\"><font color=\"#0066cc\"><b>731</b></font></td>\\r\\n      <td width=\"16%\" align=\"center\"><font color=\"#0066cc\"><b>2014/12/15</b></font></td>\\r\\n      <td width=\"17%\" align=\"center\"><b>05&nbsp;,&nbsp;10&nbsp;,&nbsp;11&nbsp;,&nbsp;15&nbsp;,&nbsp;36&nbsp;,&nbsp;38&nbsp;&nbsp;</b></td>\\r\\n      <td width=\"11%\" align=\"center\"><font color=\"#FF0000\"><b>06</b></font></td>\\r\\n      <td width=\"23%\" align=\"center\"><b><font color=\"#0066cc\">\\xb5L</font></b></td>\\r\\n    </tr>\\r\\n\\r\\n    <tr>\\r\\n      <td width=\"16%\" align=\"center\"><font color=\"#0066cc\"><b>730</b></font></td>\\r\\n      <td width=\"16%\" align=\"center\"><font color=\"#0066cc\"><b>2014/12/11</b></font></td>\\r\\n      <td width=\"17%\" align=\"center\"><b>07&nbsp;,&nbsp;12&nbsp;,&nbsp;13&nbsp;,&nbsp;21&nbsp;,&nbsp;24&nbsp;,&nbsp;28&nbsp;&nbsp;</b></td>\\r\\n      <td width=\"11%\" align=\"center\"><font color=\"#FF0000\"><b>06</b></font></td>\\r\\n      <td width=\"23%\" align=\"center\"><b><font color=\"#0066cc\">\\xb5L</font></b></td>\\r\\n    </tr>\\r\\n\\r\\n    <tr>\\r\\n      <td width=\"16%\" align=\"center\"><font color=\"#0066cc\"><b>729</b></font></td>\\r\\n      <td width=\"16%\" align=\"center\"><font color=\"#0066cc\"><b>2014/12/08</b></font></td>\\r\\n      <td width=\"17%\" align=\"center\"><b>11&nbsp;,&nbsp;20&nbsp;,&nbsp;24&nbsp;,&nbsp;27&nbsp;,&nbsp;35&nbsp;,&nbsp;38&nbsp;&nbsp;</b></td>\\r\\n      <td width=\"11%\" align=\"center\"><font color=\"#FF0000\"><b>08</b></font></td>\\r\\n      <td width=\"23%\" align=\"center\"><b><font color=\"#0066cc\">\\xb5L</font></b></td>\\r\\n    </tr>\\r\\n\\r\\n    <tr>\\r\\n      <td width=\"16%\" align=\"center\"><font color=\"#0066cc\"><b>728</b></font></td>\\r\\n      <td width=\"16%\" align=\"center\"><font color=\"#0066cc\"><b>2014/12/04</b></font></td>\\r\\n      <td width=\"17%\" align=\"center\"><b>02&nbsp;,&nbsp;05&nbsp;,&nbsp;07&nbsp;,&nbsp;11&nbsp;,&nbsp;22&nbsp;,&nbsp;36&nbsp;&nbsp;</b></td>\\r\\n      <td width=\"11%\" align=\"center\"><font color=\"#FF0000\"><b>06</b></font></td>\\r\\n      <td width=\"23%\" align=\"center\"><b><font color=\"#0066cc\">\\xb5L</font></b></td>\\r\\n    </tr>\\r\\n\\r\\n    <tr>\\r\\n      <td width=\"16%\" align=\"center\"><font color=\"#0066cc\"><b>727</b></font></td>\\r\\n      <td width=\"16%\" align=\"center\"><font color=\"#0066cc\"><b>2014/12/01</b></font></td>\\r\\n      <td width=\"17%\" align=\"center\"><b>01&nbsp;,&nbsp;02&nbsp;,&nbsp;07&nbsp;,&nbsp;14&nbsp;,&nbsp;19&nbsp;,&nbsp;31&nbsp;&nbsp;</b></td>\\r\\n      <td width=\"11%\" align=\"center\"><font color=\"#FF0000\"><b>07</b></font></td>\\r\\n      <td width=\"23%\" align=\"center\"><b><font color=\"#0066cc\">\\xb5L</font></b></td>\\r\\n    </tr>\\r\\n\\r\\n    <tr>\\r\\n      <td width=\"16%\" align=\"center\"><font color=\"#0066cc\"><b>726</b></font></td>\\r\\n      <td width=\"16%\" align=\"center\"><font color=\"#0066cc\"><b>2014/11/27</b></font></td>\\r\\n      <td width=\"17%\" align=\"center\"><b>01&nbsp;,&nbsp;02&nbsp;,&nbsp;21&nbsp;,&nbsp;29&nbsp;,&nbsp;33&nbsp;,&nbsp;36&nbsp;&nbsp;</b></td>\\r\\n      <td width=\"11%\" align=\"center\"><font color=\"#FF0000\"><b>08</b></font></td>\\r\\n      <td width=\"23%\" align=\"center\"><b><font color=\"#0066cc\">\\xb5L</font></b></td>\\r\\n    </tr>\\r\\n\\r\\n    <tr>\\r\\n      <td width=\"16%\" align=\"center\"><font color=\"#0066cc\"><b>725</b></font></td>\\r\\n      <td width=\"16%\" align=\"center\"><font color=\"#0066cc\"><b>2014/11/24</b></font></td>\\r\\n      <td width=\"17%\" align=\"center\"><b>03&nbsp;,&nbsp;05&nbsp;,&nbsp;19&nbsp;,&nbsp;22&nbsp;,&nbsp;24&nbsp;,&nbsp;32&nbsp;&nbsp;</b></td>\\r\\n      <td width=\"11%\" align=\"center\"><font color=\"#FF0000\"><b>02</b></font></td>\\r\\n      <td width=\"23%\" align=\"center\"><b><font color=\"#0066cc\">\\xb5L</font></b></td>\\r\\n    </tr>\\r\\n\\r\\n    <tr>\\r\\n      <td width=\"16%\" align=\"center\"><font color=\"#0066cc\"><b>724</b></font></td>\\r\\n      <td width=\"16%\" align=\"center\"><font color=\"#0066cc\"><b>2014/11/20</b></font></td>\\r\\n      <td width=\"17%\" align=\"center\"><b>12&nbsp;,&nbsp;17&nbsp;,&nbsp;30&nbsp;,&nbsp;31&nbsp;,&nbsp;33&nbsp;,&nbsp;35&nbsp;&nbsp;</b></td>\\r\\n      <td width=\"11%\" align=\"center\"><font color=\"#FF0000\"><b>04</b></font></td>\\r\\n      <td width=\"23%\" align=\"center\"><b><font color=\"#0066cc\">\\xb5L</font></b></td>\\r\\n    </tr>\\r\\n\\r\\n    <tr>\\r\\n      <td width=\"16%\" align=\"center\"><font color=\"#0066cc\"><b>723</b></font></td>\\r\\n      <td width=\"16%\" align=\"center\"><font color=\"#0066cc\"><b>2014/11/17</b></font></td>\\r\\n      <td width=\"17%\" align=\"center\"><b>05&nbsp;,&nbsp;06&nbsp;,&nbsp;13&nbsp;,&nbsp;24&nbsp;,&nbsp;32&nbsp;,&nbsp;34&nbsp;&nbsp;</b></td>\\r\\n      <td width=\"11%\" align=\"center\"><font color=\"#FF0000\"><b>01</b></font></td>\\r\\n      <td width=\"23%\" align=\"center\"><b><font color=\"#0066cc\">\\xb5L</font></b></td>\\r\\n    </tr>\\r\\n\\r\\n  </table>\\r\\n  </center>\\r\\n</div>\\r\\n  <p align=\"center\"><font size=\"2\">&nbsp;\\xc1`\\xa6@\\xa6\\xb325\\xad\\xb6   \\xa5\\xd8\\xabe\\xa6b\\xb2\\xc41\\xad\\xb6<br>                    \\r\\n  </font>\\r\\n  <font size=\"2\">\\r\\n\\r\\n [ <a href=\"list.asp?indexpage=1\">1</a> ]                  \\r\\n\\r\\n [ <a href=\"list.asp?indexpage=2\">2</a> ]                  \\r\\n\\r\\n [ <a href=\"list.asp?indexpage=3\">3</a> ]                  \\r\\n\\r\\n [ <a href=\"list.asp?indexpage=4\">4</a> ]                  \\r\\n\\r\\n [ <a href=\"list.asp?indexpage=5\">5</a> ]                  \\r\\n\\r\\n [ <a href=\"list.asp?indexpage=6\">6</a> ]                  \\r\\n\\r\\n [ <a href=\"list.asp?indexpage=7\">7</a> ]                  \\r\\n\\r\\n [ <a href=\"list.asp?indexpage=8\">8</a> ]                  \\r\\n\\r\\n [ <a href=\"list.asp?indexpage=9\">9</a> ]                  \\r\\n\\r\\n [ <a href=\"list.asp?indexpage=10\">10</a> ]                  \\r\\n\\r\\n [ <a href=\"list.asp?indexpage=11\">11</a> ]                  \\r\\n\\r\\n [ <a href=\"list.asp?indexpage=12\">12</a> ]                  \\r\\n\\r\\n [ <a href=\"list.asp?indexpage=13\">13</a> ]                  \\r\\n\\r\\n [ <a href=\"list.asp?indexpage=14\">14</a> ]                  \\r\\n\\r\\n [ <a href=\"list.asp?indexpage=15\">15</a> ]                  \\r\\n\\r\\n [ <a href=\"list.asp?indexpage=16\">16</a> ]                  \\r\\n\\r\\n [ <a href=\"list.asp?indexpage=17\">17</a> ]                  \\r\\n\\r\\n [ <a href=\"list.asp?indexpage=18\">18</a> ]                  \\r\\n\\r\\n [ <a href=\"list.asp?indexpage=19\">19</a> ]                  \\r\\n\\r\\n [ <a href=\"list.asp?indexpage=20\">20</a> ]                  \\r\\n\\r\\n [ <a href=\"list.asp?indexpage=21\">21</a> ]                  \\r\\n\\r\\n [ <a href=\"list.asp?indexpage=22\">22</a> ]                  \\r\\n\\r\\n [ <a href=\"list.asp?indexpage=23\">23</a> ]                  \\r\\n\\r\\n [ <a href=\"list.asp?indexpage=24\">24</a> ]                  \\r\\n\\r\\n [ <a href=\"list.asp?indexpage=25\">25</a> ]                  \\r\\n\\r\\n\\r\\n<BR>\\r\\n<BR>\\r\\n[ <a target=\"_self\" href=\"list.asp?indexpage=1\">\\xb2\\xc4\\xa4@\\xad\\xb6</a> ] &nbsp;\\r\\n\\r\\n [ <a target=\"_self\" href=\"list.asp?indexpage=2\">\\xa4U\\xa4@\\xad\\xb6</a> ] &nbsp;\\r\\n\\r\\n[ <a target=\"_self\" href=\"list.asp?indexpage=25\">\\xb3\\xcc\\xa5\\xbd\\xad\\xb6</a> ]\\r\\n\\r\\n\\r\\n<p align=\"center\">\\r\\n<br>\\r\\n\\xc0H\\xae\\xc9\\xb5\\xb9\\xb1z\\xb3\\xcc\\xb7s\\xaa\\xba\\xb8\\xea\\xb0T..</p>\\r\\n\\r\\n<!-- AdPlace ShowCode Begin / 300*250 -->\\r\\n<script  type=\"text/javascript\" charset=\"gbk\" src=\"http://adplace.adsame.com/s?z=adplace&c=2653\"></script>\\r\\n<!-- AdPlace ShowCode End / 300*250 -->\\r\\n\\r\\n</font>\\r\\n\\r\\n</body>\\r\\n\\r\\n</html>'"
       ]
      }
     ],
     "prompt_number": 62
    },
    {
     "cell_type": "markdown",
     "metadata": {},
     "source": [
      "### 5-2 Pandas \u662f\u8cc7\u6599\u5206\u6790\u7684\u597d\u670b\u53cb\n",
      "\n",
      "Pandas \u662f\u76f8\u7576\u7d05\u7684\u8cc7\u6599\u5206\u6790\u5957\u4ef6, \u4f5c\u8005\u662f Wes McKinney (\"Python for Data Analysis\" \u7684\u4f5c\u8005), \u4ed6\u6709\u5230\u904e\u53f0\u7063\u53c3\u52a0 2014 \u5e74\u7684 PyCon APAC\u3002\n",
      "\n",
      "[Wes McKinney \u5728 PyCon APAC 2014 (YouTube)](http://youtu.be/i93jidckQ7A)"
     ]
    },
    {
     "cell_type": "code",
     "collapsed": false,
     "input": [
      "import pandas as pd"
     ],
     "language": "python",
     "metadata": {},
     "outputs": [],
     "prompt_number": 63
    },
    {
     "cell_type": "code",
     "collapsed": false,
     "input": [
      "dfs = pd.read_html(res.text)"
     ],
     "language": "python",
     "metadata": {},
     "outputs": [],
     "prompt_number": 65
    },
    {
     "cell_type": "code",
     "collapsed": false,
     "input": [
      "len(dfs)"
     ],
     "language": "python",
     "metadata": {},
     "outputs": [
      {
       "metadata": {},
       "output_type": "pyout",
       "prompt_number": 66,
       "text": [
        "2"
       ]
      }
     ],
     "prompt_number": 66
    },
    {
     "cell_type": "markdown",
     "metadata": {},
     "source": [
      "\u9019\u610f\u601d\u662f dfs \u6709\u5169\u5f35\u300c\u8868\u683c\u300d, \u6211\u5011\u770b\u770b\u7b2c\u4e8c\u5f35 (\u7de8\u865f 1)\u3002"
     ]
    },
    {
     "cell_type": "code",
     "collapsed": false,
     "input": [
      "dfs[1]"
     ],
     "language": "python",
     "metadata": {},
     "outputs": [
      {
       "html": [
        "<div style=\"max-height:1000px;max-width:1500px;overflow:auto;\">\n",
        "<table border=\"1\" class=\"dataframe\">\n",
        "  <thead>\n",
        "    <tr style=\"text-align: right;\">\n",
        "      <th></th>\n",
        "      <th>0</th>\n",
        "      <th>1</th>\n",
        "      <th>2</th>\n",
        "      <th>3</th>\n",
        "      <th>4</th>\n",
        "    </tr>\n",
        "  </thead>\n",
        "  <tbody>\n",
        "    <tr>\n",
        "      <th>0 </th>\n",
        "      <td> \u00b4\u00c1\u00bc\u00c6</td>\n",
        "      <td>   \u00b6}\u00bc\u00fa\u00a4\u00e9\u00b4\u00c1</td>\n",
        "      <td>        \u00ab\u00c2\u00a4O\u00b1m\u00b2\u00c4\u00a4@\u00b0\u00cf\u00a4\u00a4\u00bc\u00fa\u00b8\u00b9\u00bdX</td>\n",
        "      <td> \u00b2\u00c4\u00a4G\u00b0\u00cf\u00b8\u00b9</td>\n",
        "      <td> \u00b3\u00c6\u00b5\u00f9</td>\n",
        "    </tr>\n",
        "    <tr>\n",
        "      <th>1 </th>\n",
        "      <td>  752</td>\n",
        "      <td> 2015/02/26</td>\n",
        "      <td> 08\u00a0,\u00a021\u00a0,\u00a022\u00a0,\u00a026\u00a0,\u00a032\u00a0,\u00a037</td>\n",
        "      <td>       04</td>\n",
        "      <td>   \u00b5L</td>\n",
        "    </tr>\n",
        "    <tr>\n",
        "      <th>2 </th>\n",
        "      <td>  751</td>\n",
        "      <td> 2015/02/23</td>\n",
        "      <td> 05\u00a0,\u00a013\u00a0,\u00a031\u00a0,\u00a034\u00a0,\u00a035\u00a0,\u00a038</td>\n",
        "      <td>       02</td>\n",
        "      <td>   \u00b5L</td>\n",
        "    </tr>\n",
        "    <tr>\n",
        "      <th>3 </th>\n",
        "      <td>  750</td>\n",
        "      <td> 2015/02/19</td>\n",
        "      <td> 04\u00a0,\u00a012\u00a0,\u00a013\u00a0,\u00a015\u00a0,\u00a023\u00a0,\u00a038</td>\n",
        "      <td>       04</td>\n",
        "      <td>   \u00b5L</td>\n",
        "    </tr>\n",
        "    <tr>\n",
        "      <th>4 </th>\n",
        "      <td>  749</td>\n",
        "      <td> 2015/02/16</td>\n",
        "      <td> 04\u00a0,\u00a005\u00a0,\u00a007\u00a0,\u00a023\u00a0,\u00a024\u00a0,\u00a030</td>\n",
        "      <td>       02</td>\n",
        "      <td>   \u00b5L</td>\n",
        "    </tr>\n",
        "    <tr>\n",
        "      <th>5 </th>\n",
        "      <td>  748</td>\n",
        "      <td> 2015/02/12</td>\n",
        "      <td> 07\u00a0,\u00a008\u00a0,\u00a010\u00a0,\u00a025\u00a0,\u00a033\u00a0,\u00a036</td>\n",
        "      <td>       03</td>\n",
        "      <td>   \u00b5L</td>\n",
        "    </tr>\n",
        "    <tr>\n",
        "      <th>6 </th>\n",
        "      <td>  747</td>\n",
        "      <td> 2015/02/09</td>\n",
        "      <td> 01\u00a0,\u00a003\u00a0,\u00a004\u00a0,\u00a015\u00a0,\u00a016\u00a0,\u00a034</td>\n",
        "      <td>       02</td>\n",
        "      <td>   \u00b5L</td>\n",
        "    </tr>\n",
        "    <tr>\n",
        "      <th>7 </th>\n",
        "      <td>  746</td>\n",
        "      <td> 2015/02/05</td>\n",
        "      <td> 03\u00a0,\u00a010\u00a0,\u00a016\u00a0,\u00a025\u00a0,\u00a029\u00a0,\u00a037</td>\n",
        "      <td>       01</td>\n",
        "      <td>   \u00b5L</td>\n",
        "    </tr>\n",
        "    <tr>\n",
        "      <th>8 </th>\n",
        "      <td>  745</td>\n",
        "      <td> 2015/02/02</td>\n",
        "      <td> 01\u00a0,\u00a004\u00a0,\u00a017\u00a0,\u00a024\u00a0,\u00a026\u00a0,\u00a027</td>\n",
        "      <td>       07</td>\n",
        "      <td>   \u00b5L</td>\n",
        "    </tr>\n",
        "    <tr>\n",
        "      <th>9 </th>\n",
        "      <td>  744</td>\n",
        "      <td> 2015/01/29</td>\n",
        "      <td> 01\u00a0,\u00a004\u00a0,\u00a014\u00a0,\u00a018\u00a0,\u00a029\u00a0,\u00a030</td>\n",
        "      <td>       08</td>\n",
        "      <td>   \u00b5L</td>\n",
        "    </tr>\n",
        "    <tr>\n",
        "      <th>10</th>\n",
        "      <td>  743</td>\n",
        "      <td> 2015/01/26</td>\n",
        "      <td> 04\u00a0,\u00a012\u00a0,\u00a024\u00a0,\u00a025\u00a0,\u00a033\u00a0,\u00a038</td>\n",
        "      <td>       04</td>\n",
        "      <td>   \u00b5L</td>\n",
        "    </tr>\n",
        "    <tr>\n",
        "      <th>11</th>\n",
        "      <td>  742</td>\n",
        "      <td> 2015/01/22</td>\n",
        "      <td> 14\u00a0,\u00a018\u00a0,\u00a026\u00a0,\u00a027\u00a0,\u00a030\u00a0,\u00a036</td>\n",
        "      <td>       05</td>\n",
        "      <td>   \u00b5L</td>\n",
        "    </tr>\n",
        "    <tr>\n",
        "      <th>12</th>\n",
        "      <td>  741</td>\n",
        "      <td> 2015/01/19</td>\n",
        "      <td> 04\u00a0,\u00a008\u00a0,\u00a009\u00a0,\u00a021\u00a0,\u00a032\u00a0,\u00a033</td>\n",
        "      <td>       02</td>\n",
        "      <td>   \u00b5L</td>\n",
        "    </tr>\n",
        "    <tr>\n",
        "      <th>13</th>\n",
        "      <td>  740</td>\n",
        "      <td> 2015/01/15</td>\n",
        "      <td> 01\u00a0,\u00a003\u00a0,\u00a016\u00a0,\u00a028\u00a0,\u00a029\u00a0,\u00a037</td>\n",
        "      <td>       02</td>\n",
        "      <td>   \u00b5L</td>\n",
        "    </tr>\n",
        "    <tr>\n",
        "      <th>14</th>\n",
        "      <td>  739</td>\n",
        "      <td> 2015/01/12</td>\n",
        "      <td> 16\u00a0,\u00a025\u00a0,\u00a030\u00a0,\u00a035\u00a0,\u00a036\u00a0,\u00a037</td>\n",
        "      <td>       05</td>\n",
        "      <td>   \u00b5L</td>\n",
        "    </tr>\n",
        "    <tr>\n",
        "      <th>15</th>\n",
        "      <td>  738</td>\n",
        "      <td> 2015/01/08</td>\n",
        "      <td> 03\u00a0,\u00a013\u00a0,\u00a017\u00a0,\u00a029\u00a0,\u00a036\u00a0,\u00a038</td>\n",
        "      <td>       07</td>\n",
        "      <td>   \u00b5L</td>\n",
        "    </tr>\n",
        "    <tr>\n",
        "      <th>16</th>\n",
        "      <td>  737</td>\n",
        "      <td> 2015/01/05</td>\n",
        "      <td> 01\u00a0,\u00a006\u00a0,\u00a015\u00a0,\u00a023\u00a0,\u00a026\u00a0,\u00a034</td>\n",
        "      <td>       06</td>\n",
        "      <td>   \u00b5L</td>\n",
        "    </tr>\n",
        "    <tr>\n",
        "      <th>17</th>\n",
        "      <td>  736</td>\n",
        "      <td> 2015/01/01</td>\n",
        "      <td> 01\u00a0,\u00a003\u00a0,\u00a005\u00a0,\u00a011\u00a0,\u00a017\u00a0,\u00a021</td>\n",
        "      <td>       02</td>\n",
        "      <td>   \u00b5L</td>\n",
        "    </tr>\n",
        "    <tr>\n",
        "      <th>18</th>\n",
        "      <td>  735</td>\n",
        "      <td> 2014/12/29</td>\n",
        "      <td> 02\u00a0,\u00a004\u00a0,\u00a009\u00a0,\u00a010\u00a0,\u00a011\u00a0,\u00a037</td>\n",
        "      <td>       02</td>\n",
        "      <td>   \u00b5L</td>\n",
        "    </tr>\n",
        "    <tr>\n",
        "      <th>19</th>\n",
        "      <td>  734</td>\n",
        "      <td> 2014/12/25</td>\n",
        "      <td> 03\u00a0,\u00a006\u00a0,\u00a010\u00a0,\u00a014\u00a0,\u00a023\u00a0,\u00a036</td>\n",
        "      <td>       01</td>\n",
        "      <td>   \u00b5L</td>\n",
        "    </tr>\n",
        "    <tr>\n",
        "      <th>20</th>\n",
        "      <td>  733</td>\n",
        "      <td> 2014/12/22</td>\n",
        "      <td> 01\u00a0,\u00a004\u00a0,\u00a005\u00a0,\u00a013\u00a0,\u00a019\u00a0,\u00a037</td>\n",
        "      <td>       02</td>\n",
        "      <td>   \u00b5L</td>\n",
        "    </tr>\n",
        "    <tr>\n",
        "      <th>21</th>\n",
        "      <td>  732</td>\n",
        "      <td> 2014/12/18</td>\n",
        "      <td> 01\u00a0,\u00a005\u00a0,\u00a018\u00a0,\u00a020\u00a0,\u00a026\u00a0,\u00a029</td>\n",
        "      <td>       05</td>\n",
        "      <td>   \u00b5L</td>\n",
        "    </tr>\n",
        "    <tr>\n",
        "      <th>22</th>\n",
        "      <td>  731</td>\n",
        "      <td> 2014/12/15</td>\n",
        "      <td> 05\u00a0,\u00a010\u00a0,\u00a011\u00a0,\u00a015\u00a0,\u00a036\u00a0,\u00a038</td>\n",
        "      <td>       06</td>\n",
        "      <td>   \u00b5L</td>\n",
        "    </tr>\n",
        "    <tr>\n",
        "      <th>23</th>\n",
        "      <td>  730</td>\n",
        "      <td> 2014/12/11</td>\n",
        "      <td> 07\u00a0,\u00a012\u00a0,\u00a013\u00a0,\u00a021\u00a0,\u00a024\u00a0,\u00a028</td>\n",
        "      <td>       06</td>\n",
        "      <td>   \u00b5L</td>\n",
        "    </tr>\n",
        "    <tr>\n",
        "      <th>24</th>\n",
        "      <td>  729</td>\n",
        "      <td> 2014/12/08</td>\n",
        "      <td> 11\u00a0,\u00a020\u00a0,\u00a024\u00a0,\u00a027\u00a0,\u00a035\u00a0,\u00a038</td>\n",
        "      <td>       08</td>\n",
        "      <td>   \u00b5L</td>\n",
        "    </tr>\n",
        "    <tr>\n",
        "      <th>25</th>\n",
        "      <td>  728</td>\n",
        "      <td> 2014/12/04</td>\n",
        "      <td> 02\u00a0,\u00a005\u00a0,\u00a007\u00a0,\u00a011\u00a0,\u00a022\u00a0,\u00a036</td>\n",
        "      <td>       06</td>\n",
        "      <td>   \u00b5L</td>\n",
        "    </tr>\n",
        "    <tr>\n",
        "      <th>26</th>\n",
        "      <td>  727</td>\n",
        "      <td> 2014/12/01</td>\n",
        "      <td> 01\u00a0,\u00a002\u00a0,\u00a007\u00a0,\u00a014\u00a0,\u00a019\u00a0,\u00a031</td>\n",
        "      <td>       07</td>\n",
        "      <td>   \u00b5L</td>\n",
        "    </tr>\n",
        "    <tr>\n",
        "      <th>27</th>\n",
        "      <td>  726</td>\n",
        "      <td> 2014/11/27</td>\n",
        "      <td> 01\u00a0,\u00a002\u00a0,\u00a021\u00a0,\u00a029\u00a0,\u00a033\u00a0,\u00a036</td>\n",
        "      <td>       08</td>\n",
        "      <td>   \u00b5L</td>\n",
        "    </tr>\n",
        "    <tr>\n",
        "      <th>28</th>\n",
        "      <td>  725</td>\n",
        "      <td> 2014/11/24</td>\n",
        "      <td> 03\u00a0,\u00a005\u00a0,\u00a019\u00a0,\u00a022\u00a0,\u00a024\u00a0,\u00a032</td>\n",
        "      <td>       02</td>\n",
        "      <td>   \u00b5L</td>\n",
        "    </tr>\n",
        "    <tr>\n",
        "      <th>29</th>\n",
        "      <td>  724</td>\n",
        "      <td> 2014/11/20</td>\n",
        "      <td> 12\u00a0,\u00a017\u00a0,\u00a030\u00a0,\u00a031\u00a0,\u00a033\u00a0,\u00a035</td>\n",
        "      <td>       04</td>\n",
        "      <td>   \u00b5L</td>\n",
        "    </tr>\n",
        "    <tr>\n",
        "      <th>30</th>\n",
        "      <td>  723</td>\n",
        "      <td> 2014/11/17</td>\n",
        "      <td> 05\u00a0,\u00a006\u00a0,\u00a013\u00a0,\u00a024\u00a0,\u00a032\u00a0,\u00a034</td>\n",
        "      <td>       01</td>\n",
        "      <td>   \u00b5L</td>\n",
        "    </tr>\n",
        "  </tbody>\n",
        "</table>\n",
        "</div>"
       ],
       "metadata": {},
       "output_type": "pyout",
       "prompt_number": 68,
       "text": [
        "       0           1                            2         3     4\n",
        "0   \u00b4\u00c1\u00bc\u00c6    \u00b6}\u00bc\u00fa\u00a4\u00e9\u00b4\u00c1         \u00ab\u00c2\u00a4O\u00b1m\u00b2\u00c4\u00a4@\u00b0\u00cf\u00a4\u00a4\u00bc\u00fa\u00b8\u00b9\u00bdX  \u00b2\u00c4\u00a4G\u00b0\u00cf\u00b8\u00b9  \u00b3\u00c6\u00b5\u00f9\n",
        "1    752  2015/02/26  08\u00a0,\u00a021\u00a0,\u00a022\u00a0,\u00a026\u00a0,\u00a032\u00a0,\u00a037        04    \u00b5L\n",
        "2    751  2015/02/23  05\u00a0,\u00a013\u00a0,\u00a031\u00a0,\u00a034\u00a0,\u00a035\u00a0,\u00a038        02    \u00b5L\n",
        "3    750  2015/02/19  04\u00a0,\u00a012\u00a0,\u00a013\u00a0,\u00a015\u00a0,\u00a023\u00a0,\u00a038        04    \u00b5L\n",
        "4    749  2015/02/16  04\u00a0,\u00a005\u00a0,\u00a007\u00a0,\u00a023\u00a0,\u00a024\u00a0,\u00a030        02    \u00b5L\n",
        "5    748  2015/02/12  07\u00a0,\u00a008\u00a0,\u00a010\u00a0,\u00a025\u00a0,\u00a033\u00a0,\u00a036        03    \u00b5L\n",
        "6    747  2015/02/09  01\u00a0,\u00a003\u00a0,\u00a004\u00a0,\u00a015\u00a0,\u00a016\u00a0,\u00a034        02    \u00b5L\n",
        "7    746  2015/02/05  03\u00a0,\u00a010\u00a0,\u00a016\u00a0,\u00a025\u00a0,\u00a029\u00a0,\u00a037        01    \u00b5L\n",
        "8    745  2015/02/02  01\u00a0,\u00a004\u00a0,\u00a017\u00a0,\u00a024\u00a0,\u00a026\u00a0,\u00a027        07    \u00b5L\n",
        "9    744  2015/01/29  01\u00a0,\u00a004\u00a0,\u00a014\u00a0,\u00a018\u00a0,\u00a029\u00a0,\u00a030        08    \u00b5L\n",
        "10   743  2015/01/26  04\u00a0,\u00a012\u00a0,\u00a024\u00a0,\u00a025\u00a0,\u00a033\u00a0,\u00a038        04    \u00b5L\n",
        "11   742  2015/01/22  14\u00a0,\u00a018\u00a0,\u00a026\u00a0,\u00a027\u00a0,\u00a030\u00a0,\u00a036        05    \u00b5L\n",
        "12   741  2015/01/19  04\u00a0,\u00a008\u00a0,\u00a009\u00a0,\u00a021\u00a0,\u00a032\u00a0,\u00a033        02    \u00b5L\n",
        "13   740  2015/01/15  01\u00a0,\u00a003\u00a0,\u00a016\u00a0,\u00a028\u00a0,\u00a029\u00a0,\u00a037        02    \u00b5L\n",
        "14   739  2015/01/12  16\u00a0,\u00a025\u00a0,\u00a030\u00a0,\u00a035\u00a0,\u00a036\u00a0,\u00a037        05    \u00b5L\n",
        "15   738  2015/01/08  03\u00a0,\u00a013\u00a0,\u00a017\u00a0,\u00a029\u00a0,\u00a036\u00a0,\u00a038        07    \u00b5L\n",
        "16   737  2015/01/05  01\u00a0,\u00a006\u00a0,\u00a015\u00a0,\u00a023\u00a0,\u00a026\u00a0,\u00a034        06    \u00b5L\n",
        "17   736  2015/01/01  01\u00a0,\u00a003\u00a0,\u00a005\u00a0,\u00a011\u00a0,\u00a017\u00a0,\u00a021        02    \u00b5L\n",
        "18   735  2014/12/29  02\u00a0,\u00a004\u00a0,\u00a009\u00a0,\u00a010\u00a0,\u00a011\u00a0,\u00a037        02    \u00b5L\n",
        "19   734  2014/12/25  03\u00a0,\u00a006\u00a0,\u00a010\u00a0,\u00a014\u00a0,\u00a023\u00a0,\u00a036        01    \u00b5L\n",
        "20   733  2014/12/22  01\u00a0,\u00a004\u00a0,\u00a005\u00a0,\u00a013\u00a0,\u00a019\u00a0,\u00a037        02    \u00b5L\n",
        "21   732  2014/12/18  01\u00a0,\u00a005\u00a0,\u00a018\u00a0,\u00a020\u00a0,\u00a026\u00a0,\u00a029        05    \u00b5L\n",
        "22   731  2014/12/15  05\u00a0,\u00a010\u00a0,\u00a011\u00a0,\u00a015\u00a0,\u00a036\u00a0,\u00a038        06    \u00b5L\n",
        "23   730  2014/12/11  07\u00a0,\u00a012\u00a0,\u00a013\u00a0,\u00a021\u00a0,\u00a024\u00a0,\u00a028        06    \u00b5L\n",
        "24   729  2014/12/08  11\u00a0,\u00a020\u00a0,\u00a024\u00a0,\u00a027\u00a0,\u00a035\u00a0,\u00a038        08    \u00b5L\n",
        "25   728  2014/12/04  02\u00a0,\u00a005\u00a0,\u00a007\u00a0,\u00a011\u00a0,\u00a022\u00a0,\u00a036        06    \u00b5L\n",
        "26   727  2014/12/01  01\u00a0,\u00a002\u00a0,\u00a007\u00a0,\u00a014\u00a0,\u00a019\u00a0,\u00a031        07    \u00b5L\n",
        "27   726  2014/11/27  01\u00a0,\u00a002\u00a0,\u00a021\u00a0,\u00a029\u00a0,\u00a033\u00a0,\u00a036        08    \u00b5L\n",
        "28   725  2014/11/24  03\u00a0,\u00a005\u00a0,\u00a019\u00a0,\u00a022\u00a0,\u00a024\u00a0,\u00a032        02    \u00b5L\n",
        "29   724  2014/11/20  12\u00a0,\u00a017\u00a0,\u00a030\u00a0,\u00a031\u00a0,\u00a033\u00a0,\u00a035        04    \u00b5L\n",
        "30   723  2014/11/17  05\u00a0,\u00a006\u00a0,\u00a013\u00a0,\u00a024\u00a0,\u00a032\u00a0,\u00a034        01    \u00b5L"
       ]
      }
     ],
     "prompt_number": 68
    },
    {
     "cell_type": "markdown",
     "metadata": {},
     "source": [
      "WOW!! \u9019\u771f\u7684\u592a\u795e\u5947\u4e86, \u6211\u5011\u5c45\u7136\u9019\u6a23\u5c31\u8b80\u5165\u4e00\u500b\u7db2\u9801\u7684\u8cc7\u6599!!"
     ]
    },
    {
     "cell_type": "code",
     "collapsed": false,
     "input": [
      "type(dfs[1])"
     ],
     "language": "python",
     "metadata": {},
     "outputs": [
      {
       "metadata": {},
       "output_type": "pyout",
       "prompt_number": 70,
       "text": [
        "pandas.core.frame.DataFrame"
       ]
      }
     ],
     "prompt_number": 70
    },
    {
     "cell_type": "markdown",
     "metadata": {},
     "source": [
      "### 5-3 Pandas \u7684\u57fa\u672c\u8cc7\u6599\u7d50\u69cb\n",
      "\n",
      "Pandas \u6709\u5169\u500b\u57fa\u672c\u8cc7\u6599\u7d50\u69cb:\n",
      "\n",
      "* <b style=\"color:red;\">DataFrame</b>: \u53ef\u4ee5\u60f3\u6210\u4e00\u500b\u8868\u683c\u3002\n",
      "* <b style=\"color:red;\">Series</b>: \u8868\u683c\u7684\u67d0\u4e00\u5217\u3001\u67d0\u4e00\u884c, \u57fa\u672c\u4e0a\u5c31\u662f\u6211\u5011\u4ee5\u524d\u7684 list \u6216 array"
     ]
    },
    {
     "cell_type": "markdown",
     "metadata": {},
     "source": [
      "\u6211\u5011\u8981 dfs \u4e2d 1 \u865f\u8868\u683c, \u4e0d\u8981\u6700\u524d\u9762\u90a3\u4e00\u5217 (\u4e82\u78bc\u5b57), \u7136\u5f8c\u8981\n",
      "\n",
      "    0, 1, 2, 3\n",
      "    \n",
      "\u56db\u884c\u5c31\u597d\u3002"
     ]
    },
    {
     "cell_type": "code",
     "collapsed": false,
     "input": [
      "lotto = dfs[1][1:][[0,1,2,3]]"
     ],
     "language": "python",
     "metadata": {},
     "outputs": [],
     "prompt_number": 71
    },
    {
     "cell_type": "markdown",
     "metadata": {},
     "source": [
      "\u7576\u7136, \u6539\u6210\u6211\u5011\u8981\u7684 column names \u662f\u6c92\u6709\u554f\u984c\u7684\u3002"
     ]
    },
    {
     "cell_type": "code",
     "collapsed": false,
     "input": [
      "lotto.columns = [\"\u671f\u6578\", \"\u958b\u734e\u65e5\u671f\", \"\u7b2c\u4e00\u5340\u4e2d\u734e\u865f\u78bc\", \"\u7b2c\u4e8c\u5340\u865f\"]"
     ],
     "language": "python",
     "metadata": {},
     "outputs": [],
     "prompt_number": 72
    },
    {
     "cell_type": "code",
     "collapsed": false,
     "input": [
      "lotto"
     ],
     "language": "python",
     "metadata": {},
     "outputs": [
      {
       "html": [
        "<div style=\"max-height:1000px;max-width:1500px;overflow:auto;\">\n",
        "<table border=\"1\" class=\"dataframe\">\n",
        "  <thead>\n",
        "    <tr style=\"text-align: right;\">\n",
        "      <th></th>\n",
        "      <th>\u671f\u6578</th>\n",
        "      <th>\u958b\u734e\u65e5\u671f</th>\n",
        "      <th>\u7b2c\u4e00\u5340\u4e2d\u734e\u865f\u78bc</th>\n",
        "      <th>\u7b2c\u4e8c\u5340\u865f</th>\n",
        "    </tr>\n",
        "  </thead>\n",
        "  <tbody>\n",
        "    <tr>\n",
        "      <th>1 </th>\n",
        "      <td> 752</td>\n",
        "      <td> 2015/02/26</td>\n",
        "      <td> 08\u00a0,\u00a021\u00a0,\u00a022\u00a0,\u00a026\u00a0,\u00a032\u00a0,\u00a037</td>\n",
        "      <td> 04</td>\n",
        "    </tr>\n",
        "    <tr>\n",
        "      <th>2 </th>\n",
        "      <td> 751</td>\n",
        "      <td> 2015/02/23</td>\n",
        "      <td> 05\u00a0,\u00a013\u00a0,\u00a031\u00a0,\u00a034\u00a0,\u00a035\u00a0,\u00a038</td>\n",
        "      <td> 02</td>\n",
        "    </tr>\n",
        "    <tr>\n",
        "      <th>3 </th>\n",
        "      <td> 750</td>\n",
        "      <td> 2015/02/19</td>\n",
        "      <td> 04\u00a0,\u00a012\u00a0,\u00a013\u00a0,\u00a015\u00a0,\u00a023\u00a0,\u00a038</td>\n",
        "      <td> 04</td>\n",
        "    </tr>\n",
        "    <tr>\n",
        "      <th>4 </th>\n",
        "      <td> 749</td>\n",
        "      <td> 2015/02/16</td>\n",
        "      <td> 04\u00a0,\u00a005\u00a0,\u00a007\u00a0,\u00a023\u00a0,\u00a024\u00a0,\u00a030</td>\n",
        "      <td> 02</td>\n",
        "    </tr>\n",
        "    <tr>\n",
        "      <th>5 </th>\n",
        "      <td> 748</td>\n",
        "      <td> 2015/02/12</td>\n",
        "      <td> 07\u00a0,\u00a008\u00a0,\u00a010\u00a0,\u00a025\u00a0,\u00a033\u00a0,\u00a036</td>\n",
        "      <td> 03</td>\n",
        "    </tr>\n",
        "    <tr>\n",
        "      <th>6 </th>\n",
        "      <td> 747</td>\n",
        "      <td> 2015/02/09</td>\n",
        "      <td> 01\u00a0,\u00a003\u00a0,\u00a004\u00a0,\u00a015\u00a0,\u00a016\u00a0,\u00a034</td>\n",
        "      <td> 02</td>\n",
        "    </tr>\n",
        "    <tr>\n",
        "      <th>7 </th>\n",
        "      <td> 746</td>\n",
        "      <td> 2015/02/05</td>\n",
        "      <td> 03\u00a0,\u00a010\u00a0,\u00a016\u00a0,\u00a025\u00a0,\u00a029\u00a0,\u00a037</td>\n",
        "      <td> 01</td>\n",
        "    </tr>\n",
        "    <tr>\n",
        "      <th>8 </th>\n",
        "      <td> 745</td>\n",
        "      <td> 2015/02/02</td>\n",
        "      <td> 01\u00a0,\u00a004\u00a0,\u00a017\u00a0,\u00a024\u00a0,\u00a026\u00a0,\u00a027</td>\n",
        "      <td> 07</td>\n",
        "    </tr>\n",
        "    <tr>\n",
        "      <th>9 </th>\n",
        "      <td> 744</td>\n",
        "      <td> 2015/01/29</td>\n",
        "      <td> 01\u00a0,\u00a004\u00a0,\u00a014\u00a0,\u00a018\u00a0,\u00a029\u00a0,\u00a030</td>\n",
        "      <td> 08</td>\n",
        "    </tr>\n",
        "    <tr>\n",
        "      <th>10</th>\n",
        "      <td> 743</td>\n",
        "      <td> 2015/01/26</td>\n",
        "      <td> 04\u00a0,\u00a012\u00a0,\u00a024\u00a0,\u00a025\u00a0,\u00a033\u00a0,\u00a038</td>\n",
        "      <td> 04</td>\n",
        "    </tr>\n",
        "    <tr>\n",
        "      <th>11</th>\n",
        "      <td> 742</td>\n",
        "      <td> 2015/01/22</td>\n",
        "      <td> 14\u00a0,\u00a018\u00a0,\u00a026\u00a0,\u00a027\u00a0,\u00a030\u00a0,\u00a036</td>\n",
        "      <td> 05</td>\n",
        "    </tr>\n",
        "    <tr>\n",
        "      <th>12</th>\n",
        "      <td> 741</td>\n",
        "      <td> 2015/01/19</td>\n",
        "      <td> 04\u00a0,\u00a008\u00a0,\u00a009\u00a0,\u00a021\u00a0,\u00a032\u00a0,\u00a033</td>\n",
        "      <td> 02</td>\n",
        "    </tr>\n",
        "    <tr>\n",
        "      <th>13</th>\n",
        "      <td> 740</td>\n",
        "      <td> 2015/01/15</td>\n",
        "      <td> 01\u00a0,\u00a003\u00a0,\u00a016\u00a0,\u00a028\u00a0,\u00a029\u00a0,\u00a037</td>\n",
        "      <td> 02</td>\n",
        "    </tr>\n",
        "    <tr>\n",
        "      <th>14</th>\n",
        "      <td> 739</td>\n",
        "      <td> 2015/01/12</td>\n",
        "      <td> 16\u00a0,\u00a025\u00a0,\u00a030\u00a0,\u00a035\u00a0,\u00a036\u00a0,\u00a037</td>\n",
        "      <td> 05</td>\n",
        "    </tr>\n",
        "    <tr>\n",
        "      <th>15</th>\n",
        "      <td> 738</td>\n",
        "      <td> 2015/01/08</td>\n",
        "      <td> 03\u00a0,\u00a013\u00a0,\u00a017\u00a0,\u00a029\u00a0,\u00a036\u00a0,\u00a038</td>\n",
        "      <td> 07</td>\n",
        "    </tr>\n",
        "    <tr>\n",
        "      <th>16</th>\n",
        "      <td> 737</td>\n",
        "      <td> 2015/01/05</td>\n",
        "      <td> 01\u00a0,\u00a006\u00a0,\u00a015\u00a0,\u00a023\u00a0,\u00a026\u00a0,\u00a034</td>\n",
        "      <td> 06</td>\n",
        "    </tr>\n",
        "    <tr>\n",
        "      <th>17</th>\n",
        "      <td> 736</td>\n",
        "      <td> 2015/01/01</td>\n",
        "      <td> 01\u00a0,\u00a003\u00a0,\u00a005\u00a0,\u00a011\u00a0,\u00a017\u00a0,\u00a021</td>\n",
        "      <td> 02</td>\n",
        "    </tr>\n",
        "    <tr>\n",
        "      <th>18</th>\n",
        "      <td> 735</td>\n",
        "      <td> 2014/12/29</td>\n",
        "      <td> 02\u00a0,\u00a004\u00a0,\u00a009\u00a0,\u00a010\u00a0,\u00a011\u00a0,\u00a037</td>\n",
        "      <td> 02</td>\n",
        "    </tr>\n",
        "    <tr>\n",
        "      <th>19</th>\n",
        "      <td> 734</td>\n",
        "      <td> 2014/12/25</td>\n",
        "      <td> 03\u00a0,\u00a006\u00a0,\u00a010\u00a0,\u00a014\u00a0,\u00a023\u00a0,\u00a036</td>\n",
        "      <td> 01</td>\n",
        "    </tr>\n",
        "    <tr>\n",
        "      <th>20</th>\n",
        "      <td> 733</td>\n",
        "      <td> 2014/12/22</td>\n",
        "      <td> 01\u00a0,\u00a004\u00a0,\u00a005\u00a0,\u00a013\u00a0,\u00a019\u00a0,\u00a037</td>\n",
        "      <td> 02</td>\n",
        "    </tr>\n",
        "    <tr>\n",
        "      <th>21</th>\n",
        "      <td> 732</td>\n",
        "      <td> 2014/12/18</td>\n",
        "      <td> 01\u00a0,\u00a005\u00a0,\u00a018\u00a0,\u00a020\u00a0,\u00a026\u00a0,\u00a029</td>\n",
        "      <td> 05</td>\n",
        "    </tr>\n",
        "    <tr>\n",
        "      <th>22</th>\n",
        "      <td> 731</td>\n",
        "      <td> 2014/12/15</td>\n",
        "      <td> 05\u00a0,\u00a010\u00a0,\u00a011\u00a0,\u00a015\u00a0,\u00a036\u00a0,\u00a038</td>\n",
        "      <td> 06</td>\n",
        "    </tr>\n",
        "    <tr>\n",
        "      <th>23</th>\n",
        "      <td> 730</td>\n",
        "      <td> 2014/12/11</td>\n",
        "      <td> 07\u00a0,\u00a012\u00a0,\u00a013\u00a0,\u00a021\u00a0,\u00a024\u00a0,\u00a028</td>\n",
        "      <td> 06</td>\n",
        "    </tr>\n",
        "    <tr>\n",
        "      <th>24</th>\n",
        "      <td> 729</td>\n",
        "      <td> 2014/12/08</td>\n",
        "      <td> 11\u00a0,\u00a020\u00a0,\u00a024\u00a0,\u00a027\u00a0,\u00a035\u00a0,\u00a038</td>\n",
        "      <td> 08</td>\n",
        "    </tr>\n",
        "    <tr>\n",
        "      <th>25</th>\n",
        "      <td> 728</td>\n",
        "      <td> 2014/12/04</td>\n",
        "      <td> 02\u00a0,\u00a005\u00a0,\u00a007\u00a0,\u00a011\u00a0,\u00a022\u00a0,\u00a036</td>\n",
        "      <td> 06</td>\n",
        "    </tr>\n",
        "    <tr>\n",
        "      <th>26</th>\n",
        "      <td> 727</td>\n",
        "      <td> 2014/12/01</td>\n",
        "      <td> 01\u00a0,\u00a002\u00a0,\u00a007\u00a0,\u00a014\u00a0,\u00a019\u00a0,\u00a031</td>\n",
        "      <td> 07</td>\n",
        "    </tr>\n",
        "    <tr>\n",
        "      <th>27</th>\n",
        "      <td> 726</td>\n",
        "      <td> 2014/11/27</td>\n",
        "      <td> 01\u00a0,\u00a002\u00a0,\u00a021\u00a0,\u00a029\u00a0,\u00a033\u00a0,\u00a036</td>\n",
        "      <td> 08</td>\n",
        "    </tr>\n",
        "    <tr>\n",
        "      <th>28</th>\n",
        "      <td> 725</td>\n",
        "      <td> 2014/11/24</td>\n",
        "      <td> 03\u00a0,\u00a005\u00a0,\u00a019\u00a0,\u00a022\u00a0,\u00a024\u00a0,\u00a032</td>\n",
        "      <td> 02</td>\n",
        "    </tr>\n",
        "    <tr>\n",
        "      <th>29</th>\n",
        "      <td> 724</td>\n",
        "      <td> 2014/11/20</td>\n",
        "      <td> 12\u00a0,\u00a017\u00a0,\u00a030\u00a0,\u00a031\u00a0,\u00a033\u00a0,\u00a035</td>\n",
        "      <td> 04</td>\n",
        "    </tr>\n",
        "    <tr>\n",
        "      <th>30</th>\n",
        "      <td> 723</td>\n",
        "      <td> 2014/11/17</td>\n",
        "      <td> 05\u00a0,\u00a006\u00a0,\u00a013\u00a0,\u00a024\u00a0,\u00a032\u00a0,\u00a034</td>\n",
        "      <td> 01</td>\n",
        "    </tr>\n",
        "  </tbody>\n",
        "</table>\n",
        "</div>"
       ],
       "metadata": {},
       "output_type": "pyout",
       "prompt_number": 73,
       "text": [
        "     \u671f\u6578        \u958b\u734e\u65e5\u671f                      \u7b2c\u4e00\u5340\u4e2d\u734e\u865f\u78bc \u7b2c\u4e8c\u5340\u865f\n",
        "1   752  2015/02/26  08\u00a0,\u00a021\u00a0,\u00a022\u00a0,\u00a026\u00a0,\u00a032\u00a0,\u00a037   04\n",
        "2   751  2015/02/23  05\u00a0,\u00a013\u00a0,\u00a031\u00a0,\u00a034\u00a0,\u00a035\u00a0,\u00a038   02\n",
        "3   750  2015/02/19  04\u00a0,\u00a012\u00a0,\u00a013\u00a0,\u00a015\u00a0,\u00a023\u00a0,\u00a038   04\n",
        "4   749  2015/02/16  04\u00a0,\u00a005\u00a0,\u00a007\u00a0,\u00a023\u00a0,\u00a024\u00a0,\u00a030   02\n",
        "5   748  2015/02/12  07\u00a0,\u00a008\u00a0,\u00a010\u00a0,\u00a025\u00a0,\u00a033\u00a0,\u00a036   03\n",
        "6   747  2015/02/09  01\u00a0,\u00a003\u00a0,\u00a004\u00a0,\u00a015\u00a0,\u00a016\u00a0,\u00a034   02\n",
        "7   746  2015/02/05  03\u00a0,\u00a010\u00a0,\u00a016\u00a0,\u00a025\u00a0,\u00a029\u00a0,\u00a037   01\n",
        "8   745  2015/02/02  01\u00a0,\u00a004\u00a0,\u00a017\u00a0,\u00a024\u00a0,\u00a026\u00a0,\u00a027   07\n",
        "9   744  2015/01/29  01\u00a0,\u00a004\u00a0,\u00a014\u00a0,\u00a018\u00a0,\u00a029\u00a0,\u00a030   08\n",
        "10  743  2015/01/26  04\u00a0,\u00a012\u00a0,\u00a024\u00a0,\u00a025\u00a0,\u00a033\u00a0,\u00a038   04\n",
        "11  742  2015/01/22  14\u00a0,\u00a018\u00a0,\u00a026\u00a0,\u00a027\u00a0,\u00a030\u00a0,\u00a036   05\n",
        "12  741  2015/01/19  04\u00a0,\u00a008\u00a0,\u00a009\u00a0,\u00a021\u00a0,\u00a032\u00a0,\u00a033   02\n",
        "13  740  2015/01/15  01\u00a0,\u00a003\u00a0,\u00a016\u00a0,\u00a028\u00a0,\u00a029\u00a0,\u00a037   02\n",
        "14  739  2015/01/12  16\u00a0,\u00a025\u00a0,\u00a030\u00a0,\u00a035\u00a0,\u00a036\u00a0,\u00a037   05\n",
        "15  738  2015/01/08  03\u00a0,\u00a013\u00a0,\u00a017\u00a0,\u00a029\u00a0,\u00a036\u00a0,\u00a038   07\n",
        "16  737  2015/01/05  01\u00a0,\u00a006\u00a0,\u00a015\u00a0,\u00a023\u00a0,\u00a026\u00a0,\u00a034   06\n",
        "17  736  2015/01/01  01\u00a0,\u00a003\u00a0,\u00a005\u00a0,\u00a011\u00a0,\u00a017\u00a0,\u00a021   02\n",
        "18  735  2014/12/29  02\u00a0,\u00a004\u00a0,\u00a009\u00a0,\u00a010\u00a0,\u00a011\u00a0,\u00a037   02\n",
        "19  734  2014/12/25  03\u00a0,\u00a006\u00a0,\u00a010\u00a0,\u00a014\u00a0,\u00a023\u00a0,\u00a036   01\n",
        "20  733  2014/12/22  01\u00a0,\u00a004\u00a0,\u00a005\u00a0,\u00a013\u00a0,\u00a019\u00a0,\u00a037   02\n",
        "21  732  2014/12/18  01\u00a0,\u00a005\u00a0,\u00a018\u00a0,\u00a020\u00a0,\u00a026\u00a0,\u00a029   05\n",
        "22  731  2014/12/15  05\u00a0,\u00a010\u00a0,\u00a011\u00a0,\u00a015\u00a0,\u00a036\u00a0,\u00a038   06\n",
        "23  730  2014/12/11  07\u00a0,\u00a012\u00a0,\u00a013\u00a0,\u00a021\u00a0,\u00a024\u00a0,\u00a028   06\n",
        "24  729  2014/12/08  11\u00a0,\u00a020\u00a0,\u00a024\u00a0,\u00a027\u00a0,\u00a035\u00a0,\u00a038   08\n",
        "25  728  2014/12/04  02\u00a0,\u00a005\u00a0,\u00a007\u00a0,\u00a011\u00a0,\u00a022\u00a0,\u00a036   06\n",
        "26  727  2014/12/01  01\u00a0,\u00a002\u00a0,\u00a007\u00a0,\u00a014\u00a0,\u00a019\u00a0,\u00a031   07\n",
        "27  726  2014/11/27  01\u00a0,\u00a002\u00a0,\u00a021\u00a0,\u00a029\u00a0,\u00a033\u00a0,\u00a036   08\n",
        "28  725  2014/11/24  03\u00a0,\u00a005\u00a0,\u00a019\u00a0,\u00a022\u00a0,\u00a024\u00a0,\u00a032   02\n",
        "29  724  2014/11/20  12\u00a0,\u00a017\u00a0,\u00a030\u00a0,\u00a031\u00a0,\u00a033\u00a0,\u00a035   04\n",
        "30  723  2014/11/17  05\u00a0,\u00a006\u00a0,\u00a013\u00a0,\u00a024\u00a0,\u00a032\u00a0,\u00a034   01"
       ]
      }
     ],
     "prompt_number": 73
    },
    {
     "cell_type": "markdown",
     "metadata": {},
     "source": [
      "\u5e38\u5e38\u770b\u8d77\u4f86\u50cf\u6578\u5b57\u7684\u5176\u5be6\u662f\u6587\u5b57 (\u4e8b\u5be6\u4e0a\u662f objects), \u6211\u5011\u8981\u8655\u7406\u4e00\u4e0b\u624d\u80fd\u756b\u5716\u3001\u5206\u6790\u3002"
     ]
    },
    {
     "cell_type": "code",
     "collapsed": false,
     "input": [
      "lotto[\"\u7b2c\u4e8c\u5340\u865f\"].astype(int).plot()"
     ],
     "language": "python",
     "metadata": {},
     "outputs": [
      {
       "metadata": {},
       "output_type": "pyout",
       "prompt_number": 78,
       "text": [
        "<matplotlib.axes.AxesSubplot at 0x109d67550>"
       ]
      },
      {
       "metadata": {},
       "output_type": "display_data",
       "png": "[encoded data removed]",
       "text": [
        "<matplotlib.figure.Figure at 0x109888890>"
       ]
      }
     ],
     "prompt_number": 78
    },
    {
     "cell_type": "markdown",
     "metadata": {},
     "source": [
      "\u7576\u7136, \u6c38\u4e45\u8b8a\u6210\u6211\u5011\u8981\u7684\u8cc7\u6599\u578b\u614b\u53ef\u80fd\u66f4\u597d\u3002"
     ]
    },
    {
     "cell_type": "code",
     "collapsed": false,
     "input": [
      "lotto[\"\u7b2c\u4e8c\u5340\u865f\"] = lotto['\u7b2c\u4e8c\u5340\u865f'].apply(lambda x: int(x))"
     ],
     "language": "python",
     "metadata": {},
     "outputs": [],
     "prompt_number": 79
    },
    {
     "cell_type": "code",
     "collapsed": false,
     "input": [
      "lotto[\"\u7b2c\u4e8c\u5340\u865f\"].hist(bins=15)"
     ],
     "language": "python",
     "metadata": {},
     "outputs": [
      {
       "metadata": {},
       "output_type": "pyout",
       "prompt_number": 80,
       "text": [
        "<matplotlib.axes.AxesSubplot at 0x109dc7bd0>"
       ]
      },
      {
       "metadata": {},
       "output_type": "display_data",
       "png": "[encoded data removed]",
       "text": [
        "<matplotlib.figure.Figure at 0x109df3950>"
       ]
      }
     ],
     "prompt_number": 80
    },
    {
     "cell_type": "markdown",
     "metadata": {},
     "source": [
      "### \u5ef6\u4f38\u5b78\u7fd2\n",
      "\n",
      "Julia Evans \u662f\u52a0\u62ff\u5927\u4e00\u4f4d\u5c08\u696d\u8cc7\u6599\u5206\u6790\u5e2b, \u5979\u7528\u5be6\u969b\u7684\u4f8b\u5b50\u4ecb\u7d39 Pandas (\u9084\u6709 IPython!) \u7c21\u77ed\u6709\u8da3, \u975e\u5e38\u63a8\u85a6!\n",
      "\n",
      "[Diving into Open Data with IPython & Pandas (YouTube)](http://youtu.be/rEalbu8UGeo)"
     ]
    },
    {
     "cell_type": "markdown",
     "metadata": {},
     "source": [
      "## 6. \u5feb\u901f\u7c21\u55ae\u4e92\u52d5 GUI \u754c\u9762!!\n",
      "\n",
      "\u6211\u5011\u4f86\u4ecb\u7d39 IPython 2.0 \u8d77\u975e\u5e38\u70ab\u7684\u4e92\u52d5\u529f\u80fd\u3002"
     ]
    },
    {
     "cell_type": "code",
     "collapsed": false,
     "input": [
      "from IPython.html.widgets import interact"
     ],
     "language": "python",
     "metadata": {},
     "outputs": [],
     "prompt_number": 37
    },
    {
     "cell_type": "markdown",
     "metadata": {},
     "source": [
      "\u6211\u5011\u96a8\u4fbf\u4f86\u500b\u51fd\u6578\u3002"
     ]
    },
    {
     "cell_type": "code",
     "collapsed": false,
     "input": [
      "def f(x):\n",
      "    print x"
     ],
     "language": "python",
     "metadata": {},
     "outputs": [],
     "prompt_number": 136
    },
    {
     "cell_type": "markdown",
     "metadata": {},
     "source": [
      "\u4ec0\u9ebc? \u9019\u6a23\u5c31\u53ef\u4ee5\u4e92\u52d5!!??"
     ]
    },
    {
     "cell_type": "code",
     "collapsed": false,
     "input": [
      "interact(f, x=3);"
     ],
     "language": "python",
     "metadata": {},
     "outputs": [
      {
       "output_type": "stream",
       "stream": "stdout",
       "text": [
        "6\n"
       ]
      }
     ],
     "prompt_number": 140
    },
    {
     "cell_type": "markdown",
     "metadata": {},
     "source": [
      "\u6709\u8da3\u7684\u662f, \u6211\u5011\u6539\u8b8a x \u7684\u5b9a\u6cd5, \u5c31\u53ef\u4ee5\u6709\u4e0d\u540c GUI \u754c\u9762! \u8a66\u8a66:\n",
      "\n",
      "* x=3.\n",
      "* x=(1,15)\n",
      "* x=u\"\u4f60\u597d\"\n",
      "* x=[u\"\u53f0\u5317\u5e02\", u\"\u53f0\u4e2d\u5e02\"]\n",
      "* x={u\"\u53f0\u5317\u5e02\":\"02\", u\"\u53f0\u4e2d\u5e02\":\"04\"}"
     ]
    },
    {
     "cell_type": "code",
     "collapsed": false,
     "input": [
      "interact(f, x={u\"\u53f0\u5317\u5e02\":\"02\", u\"\u53f0\u4e2d\u5e02\":\"04\"});"
     ],
     "language": "python",
     "metadata": {},
     "outputs": [
      {
       "output_type": "stream",
       "stream": "stdout",
       "text": [
        "02\n"
       ]
      }
     ],
     "prompt_number": 150
    },
    {
     "cell_type": "markdown",
     "metadata": {},
     "source": [
      "\u505a\u500b\u771f\u7684\u6709\u8a8d\u771f\u505a\u4e8b\u7684\u51fd\u6578\u3002"
     ]
    },
    {
     "cell_type": "code",
     "collapsed": false,
     "input": [
      "def move(x):\n",
      "    print \" \"*x + \"ooo\""
     ],
     "language": "python",
     "metadata": {},
     "outputs": [],
     "prompt_number": 149
    },
    {
     "cell_type": "code",
     "collapsed": false,
     "input": [
      "interact(move, x=(0,40));"
     ],
     "language": "python",
     "metadata": {},
     "outputs": [
      {
       "output_type": "stream",
       "stream": "stdout",
       "text": [
        "                   ooo\n"
       ]
      }
     ],
     "prompt_number": 154
    },
    {
     "cell_type": "markdown",
     "metadata": {},
     "source": [
      "## 7. \u8a72\u8a8d\u771f\u7684\u4f86\u8cc7\u6599\u5206\u6790\u4e86"
     ]
    },
    {
     "cell_type": "markdown",
     "metadata": {},
     "source": [
      "### 7-1 \u6982\u5ff5\n",
      "\n",
      "\u7528\u6578\u5b78\u7684\u89d2\u5ea6\u4f86\u8aaa, \u8cc7\u6599\u5206\u6790\u5927\u6982\u53ef\u4ee5\u770b\u6210\u300c\u627e\u51fd\u6578\u300d\u7684\u5de5\u4f5c\u3002\n",
      "\n",
      "    f(x) = y"
     ]
    },
    {
     "cell_type": "markdown",
     "metadata": {},
     "source": [
      "#### [\u4f8b\u5b50]\n",
      "\n",
      "\u8f38\u5165\u4e00\u500b\u6642\u9593 x, \u6211\u5c31\u51fa\u73fe\u90a3\u500b\u6642\u9593\u82b1\u84ee\u5e02\u7684\u6eab\u5ea6\u3002\n",
      "\n",
      "    f(x) = \u5728 x \u6642\u82b1\u84ee\u7684\u6eab\u5ea6"
     ]
    },
    {
     "cell_type": "markdown",
     "metadata": {},
     "source": [
      "#### [\u4f8b\u5b50]\n",
      "\n",
      "\u67d0\u516c\u53f8\u505a\u5ba2\u6236\u5206\u6790, \u628a\u5ba2\u6236\u5206\u6210\u4e09\u985e:\n",
      "\n",
      "* 1: \u4e0d\u7528\u82b1\u4ec0\u9ebc\u529b\u6c23\u5c31\u662f\u6211\u5011\u5fe0\u5be6\u7c89\u7d72\n",
      "* 2: \u6709\u53ef\u80fd\u6210\u70ba\u5ba2\u6236\u4f46\u8981\u52aa\u529b\u8aaa\u670d\n",
      "* 3: \u5225\u50bb\u4e86, \u9019\u4eba\u4e0d\u6703\u7406\u6211\u5011\u7684\n",
      "\n",
      "\u6211\u5011\u81ea\u7136\u5e0c\u671b\u628a\u67d0\u4e00\u500b\u4eba x \u653e\u9032\u6211\u5011\u7684\u795e\u79d8\u51fd\u6578, \u51fd\u6578\u5c31\u544a\u8a34\u6211\u5011\u4ed6\u662f\u54ea\u4e00\u985e\u7684\u4eba:\n",
      "\n",
      "    f(x) = x \u9019\u500b\u4eba\u662f\u54ea\u4e00\u985e\n",
      "    \n",
      "\u5f88\u68d2\u5427? \u7b49\u7b49, x \u9019\u500b\u4eba\u96fb\u8166\u600e\u9ebc\u300c\u8f38\u5165\u300d? \u6240\u4ee5\u6211\u5011\u6703\u7528\u67d0\u4e9b\u53ef\u91cf\u5316\u6578\u64da\u65b9\u5f0f\u8868\u5f0f, \u4f8b\u5982:\n",
      "\n",
      "    x = {'\u8840\u578b':'O', '\u661f\u5ea7':'\u5c04\u624b\u5ea7', 'A\u7522\u54c1':27, \n",
      "    'B\u7522\u54c1':0, ...}\n",
      "    \n",
      "\u8036, \u8840\u578b\u661f\u5ea7\u4e0d\u662f\u6578\u5b57\u554a, \u4f46\u6211\u5011\u53ef\u4ee5\u7528 1 \u8868 A \u578b, 2 \u8868 B \u578b, \u7b49\u7b49\u3002\u6240\u4ee5 x \u7e3d\u7d50\u53ef\u80fd\u662f\u4e00\u500b list:\n",
      "\n",
      "    x = [3, 1, 27, 0, ...]"
     ]
    },
    {
     "cell_type": "markdown",
     "metadata": {},
     "source": [
      "#### [\u4f8b\u5b50]\n",
      "\n",
      "\u65bc\u662f\u6211\u5011\u77e5\u9053, \u4eba\u53ef\u4ee5\u300c\u8f38\u5165\u300d\u5f8c, \u4e16\u754c\u53c8\u66f4\u5bdb\u5ee3\u4e86\u3002\u6bd4\u65b9\u8aaa\u6211\u5011\u9084\u53ef\u4ee5\u505a\u500b\u300c\u914d\u5c0d\u51fd\u6578\u300d, \u8f38\u5165 x, y \u5169\u500b\u4eba, \u5f97\u5230:\n",
      "\n",
      "    f(x,y) = x \u548c y \u7684\u7d20\u914d\u6307\u6578"
     ]
    },
    {
     "cell_type": "markdown",
     "metadata": {},
     "source": []
    },
    {
     "cell_type": "markdown",
     "metadata": {},
     "source": [
      "#### [\u578b\u5f0f]\n",
      "\n",
      "\u57fa\u672c\u4e0a\u6211\u5011\u5b78\u51fd\u6578\u5927\u7d04\u6709\u5169\u7a2e\u65b9\u5f0f:\n",
      "\n",
      "1. regression (\u8ff4\u6b78)\n",
      "2. interpolation (\u63d2\u503c)\n"
     ]
    },
    {
     "cell_type": "markdown",
     "metadata": {},
     "source": [
      "### 7-2 \u505a\u500b\u5047\u7684\u8cc7\u6599\u6e96\u5099\u8ff4\u6b78\u4e00\u4e0b"
     ]
    },
    {
     "cell_type": "markdown",
     "metadata": {},
     "source": [
      "\u6211\u5011\u4f86\u4e00\u689d\u7dda, \u6bd4\u5982\u8aaa\n",
      "\n",
      "    f(x) = 1.2x + 0.8"
     ]
    },
    {
     "cell_type": "markdown",
     "metadata": {},
     "source": [
      "\u6e96\u5099\u597d\u500b 50 \u500b\u9ede"
     ]
    },
    {
     "cell_type": "code",
     "collapsed": false,
     "input": [
      "x = linspace(0,5,50)"
     ],
     "language": "python",
     "metadata": {},
     "outputs": [],
     "prompt_number": 4
    },
    {
     "cell_type": "markdown",
     "metadata": {},
     "source": [
      "\u5c0d\u61c9\u7684 y\u3000\u5c31\u662f\u6211\u5011\u8981\u5b78\u7684, \u4f46\u662f\u4f60\u5f04\u5f97 y \u90fd\u525b\u597d\u662f $1.2x + 0.8$ \u7684\u8a71...\n",
      "\n",
      "\u600e\u9ebc\u5b78\u90fd\u662f 100% \u50cf\u554a\u3002\n",
      "\n",
      "\u6240\u4ee5, \u5c31\u50cf\u771f\u5be6\u7684\u4e16\u754c, \u6211\u5011\u52a0\u5165 noise\u3002"
     ]
    },
    {
     "cell_type": "code",
     "collapsed": false,
     "input": [
      "y = 1.2*x + 0.8 + randn(50)"
     ],
     "language": "python",
     "metadata": {},
     "outputs": [],
     "prompt_number": 5
    },
    {
     "cell_type": "markdown",
     "metadata": {},
     "source": [
      "\u770b\u770b\u6211\u5011\u76ee\u524d\u53d6\u7684\u9ede, \u9644\u4e0a\u300c\u5b8c\u5168\u6b63\u78ba\u7684\u300d\u51fd\u6578\u3002"
     ]
    },
    {
     "cell_type": "code",
     "collapsed": false,
     "input": [
      "scatter(x,y)\n",
      "plot(x,1.2*x + 0.8,'b');"
     ],
     "language": "python",
     "metadata": {},
     "outputs": [
      {
       "metadata": {},
       "output_type": "display_data",
       "png": "[encoded data removed]",
       "text": [
        "<matplotlib.figure.Figure at 0x106137810>"
       ]
      }
     ],
     "prompt_number": 7
    },
    {
     "cell_type": "markdown",
     "metadata": {},
     "source": [
      "### 7-3 \u7528 SciPy \u4f86\u8ff4\u6b78"
     ]
    },
    {
     "cell_type": "markdown",
     "metadata": {},
     "source": [
      "\u7dda\u6027\u8ff4\u6b78\u5f88\u591a\u5957\u4ef6\u6703\u505a, \u6211\u5011\u9019\u88e1\u4ecb\u7d39\u7684\u65b9\u6cd5\u597d\u8655\u662f\u4f60\u53ea\u8981\u9810\u60f3\u597d\u9019\u4e9b\u8cc7\u6599\u9577\u5f97\u5f88\u50cf\u4ec0\u9ebc\u51fd\u6578, \u6211\u5011\u90fd\u53ef\u4ee5\u8ff4\u6b78! \u4e0d\u4e00\u5b9a\u8981\u7dda\u6027\u51fd\u6578!\n",
      "\n",
      "\u5728\u6211\u5011\u7dda\u6027\u7684\u4f8b\u5b50\u5f88\u5bb9\u6613\u3002\u6211\u5011\u5148\u505a\u4e00\u500b\u76ee\u6a19\u51fd\u6578\n",
      "\n",
      "    f(x) = ax + b\n",
      "\n",
      "\u518d\u4f86\u7b97 a, b \u9019\u6a23\u3002"
     ]
    },
    {
     "cell_type": "code",
     "collapsed": false,
     "input": [
      "from scipy.optimize import curve_fit"
     ],
     "language": "python",
     "metadata": {},
     "outputs": [],
     "prompt_number": 8
    },
    {
     "cell_type": "code",
     "collapsed": false,
     "input": [
      "def f(x, a, b):\n",
      "    return a*x + b"
     ],
     "language": "python",
     "metadata": {},
     "outputs": [],
     "prompt_number": 9
    },
    {
     "cell_type": "markdown",
     "metadata": {},
     "source": [
      "\u6211\u5011\u300c\u5b78\u7fd2\u7684\u8cc7\u6599\u300d\u5c31\u662f\u525b\u525b\u7684 x, y\u3002\u50b3\u56de\u7684 popt \u9019\u88e1\u5c31\u662f\u6700\u5c0f\u5e73\u65b9\u6cd5\u4e0b\u5f97\u5230\u7684 a, b\u3002"
     ]
    },
    {
     "cell_type": "code",
     "collapsed": false,
     "input": [
      "popt, pcov = curve_fit(f, x, y)"
     ],
     "language": "python",
     "metadata": {},
     "outputs": [],
     "prompt_number": 10
    },
    {
     "cell_type": "code",
     "collapsed": false,
     "input": [
      "popt"
     ],
     "language": "python",
     "metadata": {},
     "outputs": [
      {
       "metadata": {},
       "output_type": "pyout",
       "prompt_number": 11,
       "text": [
        "array([ 1.15268365,  1.07790676])"
       ]
      }
     ],
     "prompt_number": 11
    },
    {
     "cell_type": "code",
     "collapsed": false,
     "input": [
      "a, b = popt"
     ],
     "language": "python",
     "metadata": {},
     "outputs": [],
     "prompt_number": 13
    },
    {
     "cell_type": "code",
     "collapsed": false,
     "input": [
      "scatter(x,y)\n",
      "plot(x,1.2*x + 0.8,'b',label=\"original\")\n",
      "plot(x,a*x + b, 'r',label=\"fit\")\n",
      "ax = gca()\n",
      "ax.legend();"
     ],
     "language": "python",
     "metadata": {},
     "outputs": [
      {
       "metadata": {},
       "output_type": "display_data",
       "png": "[encoded data removed]",
       "text": [
        "<matplotlib.figure.Figure at 0x1076ad0d0>"
       ]
      }
     ],
     "prompt_number": 19
    },
    {
     "cell_type": "markdown",
     "metadata": {},
     "source": [
      "### 7-4 \u518d\u4f86\u6e96\u5099\u8cc7\u6599\u7d66\u63d2\u503c\u6cd5"
     ]
    },
    {
     "cell_type": "markdown",
     "metadata": {},
     "source": [
      "\u5047\u8a2d\u6211\u5011\u6709\u500b\u7cbe\u6e96\u7684\u8cc7\u6599, \u5c31\u662f\u9019\u500b\u51fd\u6578\n",
      "\n",
      "    f(x) = sin(x) + 0.5x"
     ]
    },
    {
     "cell_type": "code",
     "collapsed": false,
     "input": [
      "x = linspace(0, 10, 15)\n",
      "y = sin(x) + 0.5 * x"
     ],
     "language": "python",
     "metadata": {},
     "outputs": [],
     "prompt_number": 20
    },
    {
     "cell_type": "markdown",
     "metadata": {},
     "source": [
      "\u70ba\u4e86\u756b\u5716, \u6211\u5011\u8981\u591a\u53d6\u4e00\u4e9b\u9ede, \u53eb xx \u597d\u4e86\u3002"
     ]
    },
    {
     "cell_type": "code",
     "collapsed": false,
     "input": [
      "xx = linspace(0, 10, 100)"
     ],
     "language": "python",
     "metadata": {},
     "outputs": [],
     "prompt_number": 21
    },
    {
     "cell_type": "code",
     "collapsed": false,
     "input": [
      "scatter(x, y, s=50)\n",
      "plot(xx, sin(xx) + 0.5*xx, 'b');"
     ],
     "language": "python",
     "metadata": {},
     "outputs": [
      {
       "metadata": {},
       "output_type": "display_data",
       "png": "[encoded data removed]",
       "text": [
        "<matplotlib.figure.Figure at 0x107905a50>"
       ]
      }
     ],
     "prompt_number": 24
    },
    {
     "cell_type": "markdown",
     "metadata": {},
     "source": [
      "\u63d2\u503c\u6cd5\u7684\u76ee\u6a19\u662f\u5168\u90e8\u547d\u4e2d!!"
     ]
    },
    {
     "cell_type": "markdown",
     "metadata": {},
     "source": [
      "### 7-5 \u5168\u90e8\u547d\u4e2d\u5176\u5be6\u4e0d\u662f\u4ec0\u9ebc\u4e86\u4e0d\u8d77\u7684\u4e8b"
     ]
    },
    {
     "cell_type": "code",
     "collapsed": false,
     "input": [
      "def draw(a):\n",
      "    scatter(x, y, s=50)\n",
      "    xxx = linspace(0, 10, 1000)\n",
      "    plot(xxx, 3.2*sin(a*xxx)+3, 'r');"
     ],
     "language": "python",
     "metadata": {},
     "outputs": [],
     "prompt_number": 35
    },
    {
     "cell_type": "code",
     "collapsed": false,
     "input": [
      "interact(draw, a=(10,100));"
     ],
     "language": "python",
     "metadata": {},
     "outputs": [
      {
       "metadata": {},
       "output_type": "display_data",
       "png": "[encoded data removed]",
       "text": [
        "<matplotlib.figure.Figure at 0x1079e7bd0>"
       ]
      }
     ],
     "prompt_number": 41
    },
    {
     "cell_type": "markdown",
     "metadata": {},
     "source": [
      "### 7-6 \u4e0d\u8981\u592a\u904e\u5ea6\u5b78\u7fd2"
     ]
    },
    {
     "cell_type": "markdown",
     "metadata": {},
     "source": [
      "\u6211\u5011\u6e96\u5099\u518d\u547c\u53eb\u4e00\u4e0b SciPy \u4f86\u505a \"Cubic Spline\" \u7684\u63d2\u503c\u6cd5!"
     ]
    },
    {
     "cell_type": "code",
     "collapsed": false,
     "input": [
      "from scipy.interpolate import interp1d"
     ],
     "language": "python",
     "metadata": {},
     "outputs": [],
     "prompt_number": 42
    },
    {
     "cell_type": "code",
     "collapsed": false,
     "input": [
      "f = interp1d(x, y, kind='cubic')"
     ],
     "language": "python",
     "metadata": {},
     "outputs": [],
     "prompt_number": 43
    },
    {
     "cell_type": "code",
     "collapsed": false,
     "input": [
      "scatter(x, y, s=50)\n",
      "plot(xx, sin(xx) + 0.5*xx, 'b') # \u771f\u6b63\u7684\n",
      "plot(xx, f(xx), 'r');"
     ],
     "language": "python",
     "metadata": {},
     "outputs": [
      {
       "metadata": {},
       "output_type": "display_data",
       "png": "[encoded data removed]",
       "text": [
        "<matplotlib.figure.Figure at 0x1085da9d0>"
       ]
      }
     ],
     "prompt_number": 45
    },
    {
     "cell_type": "markdown",
     "metadata": {},
     "source": [
      "## 8. \u5047\u88dd\u6211\u5011\u597d\u50cf\u5f88\u61c2\u6a5f\u5668\u5b78\u7fd2\n",
      "\n",
      "\u5728\u6a5f\u5668\u5b78\u7fd2\u7684\u5206\u985e (\u5176\u5be6\u4e5f\u662f\u4e00\u500b\u5b78\u51fd\u6578\u7684\u904e\u7a0b) \u5927\u81f4\u6709\n",
      "\n",
      "* supervised learning (\u76e3\u7763\u5f0f\u5b78\u7fd2)\n",
      "* unsupervised learning (\u975e\u76e3\u7763\u5f0f\u5b78\u7fd2)\n",
      "\n",
      "\u6211\u5011\u5404\u8209\u4e00\u4f8b, \u5047\u8a2d\u6211\u5011\u597d\u50cf\u5f88\u61c2\u3002"
     ]
    },
    {
     "cell_type": "code",
     "collapsed": false,
     "input": [],
     "language": "python",
     "metadata": {},
     "outputs": []
    }
   ],
   "metadata": {}
  }
 ]
}