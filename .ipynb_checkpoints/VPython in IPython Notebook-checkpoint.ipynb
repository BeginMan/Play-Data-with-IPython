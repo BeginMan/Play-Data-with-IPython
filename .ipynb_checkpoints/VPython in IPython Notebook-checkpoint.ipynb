{
 "metadata": {
  "name": "",
  "signature": "sha256:24f3061b2a9a0d028ba85938f9c976c8e0e777473720e4a609c14301efee01a8"
 },
 "nbformat": 3,
 "nbformat_minor": 0,
 "worksheets": []
}