{
 "metadata": {
  "name": "",
  "signature": "sha256:6d2d3401d35ff8c0ceced7935032af592f3d9c516b85f26d1aa61618b4d0fbf6"
 },
 "nbformat": 3,
 "nbformat_minor": 0,
 "worksheets": [
  {
   "cells": [
    {
     "cell_type": "markdown",
     "metadata": {},
     "source": [
      "# \u5728 IPython Notebook \u4e2d\u7528 VPython\n",
      "\n",
      "VPython \u5f88\u597d\u73a9, \u53ef\u4ee5\u5f88\u5feb\u505a\u51fa\u6709\u8da3\u7684 3D \u52d5\u614b\u4f5c\u54c1\u3002\n",
      "\n",
      "[VPython \u5b98\u65b9\u7db2\u7ad9](http://vpython.org/)\n",
      "\n",
      "\u554f\u984c\u662f VPython \u4e0d\u592a\u597d\u88dd\u3002\u5982\u679c\u90fd\u7528\u5b98\u7db2\u6307\u5b9a\u7684 Python \u7248\u672c\u901a\u5e38\u6c92\u6709\u554f\u984c, \u53ea\u662f\u88dd\u597d\u4e86\u4f60\u5b89\u88dd\u5176\u4ed6\u5957\u4ef6\u53c8\u5f88\u9ebb\u7169\u3002\u53ef\u53c3\u8003\u600e\u9ebc\u5728 Anaconda \u7684 Python \u74b0\u5883\u4e0b\u88dd VPython\u3002\n",
      "\n",
      "[\u5404\u7a2e\u79d1\u5b78\u5957\u4ef6\u5916\u52a0 VPython \u91cd\u73fe Mac](https://yenlungblog.wordpress.com/2014/05/25/python-%E5%90%84%E7%A8%AE%E7%A7%91%E5%AD%B8%E5%A5%97%E4%BB%B6%E5%A4%96%E5%8A%A0-vpython-%E9%87%8D%E7%8F%BE-mac/)\n",
      "\n",
      "\u5728 IPython Notebook \u4e2d\u8981\u7528 VPython \u53ef\u4ee5\u88dd\u4e0a\n",
      "\n",
      "[IVisual](https://pypi.python.org/pypi/IVisual/0.1.87)\n",
      "\n",
      "\u4f7f\u7528 ivisual \u5957\u4ef6\u5c31\u53ef\u4ee5\u5728 IPython Notebook \u4e2d\u7528 VPython\u3002"
     ]
    },
    {
     "cell_type": "code",
     "collapsed": false,
     "input": [
      "from ivisual import *"
     ],
     "language": "python",
     "metadata": {},
     "outputs": [
      {
       "html": [
        "<div id=\"scene\"><div id=\"glowscript\" class=\"glowscript\"></div></div>"
       ],
       "metadata": {},
       "output_type": "display_data",
       "text": [
        "<IPython.core.display.HTML at 0x104cf8310>"
       ]
      },
      {
       "javascript": [
        "require.undef(\"nbextensions/glow.1.0.min\");"
       ],
       "metadata": {},
       "output_type": "display_data",
       "text": [
        "<IPython.core.display.Javascript at 0x104f12a50>"
       ]
      },
      {
       "javascript": [
        "require.undef(\"nbextensions/glowcomm\");"
       ],
       "metadata": {},
       "output_type": "display_data",
       "text": [
        "<IPython.core.display.Javascript at 0x104f12a90>"
       ]
      },
      {
       "javascript": [
        "require([\"nbextensions/glowcomm\"], function(){console.log(\"glowcomm loaded\");})"
       ],
       "metadata": {},
       "output_type": "display_data",
       "text": [
        "<IPython.core.display.Javascript at 0x104f12ad0>"
       ]
      }
     ],
     "prompt_number": 1
    },
    {
     "cell_type": "markdown",
     "metadata": {},
     "source": [
      "\u99ac\u4e0a 3D \u7684\u7403\u5c31\u4f86\u4e86!!"
     ]
    },
    {
     "cell_type": "code",
     "collapsed": false,
     "input": [
      "b = sphere()"
     ],
     "language": "python",
     "metadata": {},
     "outputs": [],
     "prompt_number": 2
    },
    {
     "cell_type": "markdown",
     "metadata": {},
     "source": [
      "\u662f\u4e0d\u662f\u5f88\u611f\u4eba? \u5982\u679c\u6211\u5011\u8981\u8b8a\u984f\u8272..."
     ]
    },
    {
     "cell_type": "code",
     "collapsed": false,
     "input": [
      "b.color = color.red"
     ],
     "language": "python",
     "metadata": {},
     "outputs": [],
     "prompt_number": 3
    },
    {
     "cell_type": "code",
     "collapsed": false,
     "input": [
      "b.radius=0.3"
     ],
     "language": "python",
     "metadata": {},
     "outputs": [],
     "prompt_number": 6
    },
    {
     "cell_type": "code",
     "collapsed": false,
     "input": [
      "c = curve(pos=[(0,0,0)], radius=0.1, color=color.blue)"
     ],
     "language": "python",
     "metadata": {},
     "outputs": [],
     "prompt_number": 8
    },
    {
     "cell_type": "code",
     "collapsed": false,
     "input": [
      "def move(x):\n",
      "    c.append(pos=x)\n",
      "    b.pos = x"
     ],
     "language": "python",
     "metadata": {},
     "outputs": [],
     "prompt_number": 9
    },
    {
     "cell_type": "code",
     "collapsed": false,
     "input": [
      "move((1,0,0))"
     ],
     "language": "python",
     "metadata": {},
     "outputs": [],
     "prompt_number": 10
    },
    {
     "cell_type": "code",
     "collapsed": false,
     "input": [
      "move((1,1,0))"
     ],
     "language": "python",
     "metadata": {},
     "outputs": [],
     "prompt_number": 11
    },
    {
     "cell_type": "code",
     "collapsed": false,
     "input": [
      "move((0,1,1))"
     ],
     "language": "python",
     "metadata": {},
     "outputs": [],
     "prompt_number": 12
    },
    {
     "cell_type": "code",
     "collapsed": false,
     "input": [],
     "language": "python",
     "metadata": {},
     "outputs": []
    }
   ],
   "metadata": {}
  }
 ]
}